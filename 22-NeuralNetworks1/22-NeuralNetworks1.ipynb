{
 "cells": [
  {
   "cell_type": "markdown",
   "metadata": {
    "slideshow": {
     "slide_type": "slide"
    }
   },
   "source": [
    "# Introduction to Data Science \n",
    "# Lecture 22: Neural Networks I\n",
    "*COMP 5360 / MATH 4100, University of Utah, http://datasciencecourse.net/*\n",
    "\n",
    "In this lecture, we'll discuss Neural Networks, which can be used for both Classification and Regression. In particular, we'll discuss \n",
    "* perceptrons and multi-layer perceptrons (MLP)\n",
    "* neural networks with scikit-learn\n",
    "* how to train a neural network\n",
    "\n",
    "Recommended reading:\n",
    "* A. Géron, [Hands-On Machine Learning with Scikit-Learn & TensorFlow](http://proquest.safaribooksonline.com/book/programming/9781491962282) (2017), Ch. 9,10. See also the [associated github page](https://github.com/ageron/handson-ml). \n",
    "* I. Goodfellow and Y. Bengio and A. Courville, [Deep Learning](http://www.deeplearningbook.org/)\n",
    "* [TensorFlow tutorials](https://www.tensorflow.org/tutorials)\n",
    "\n",
    "Recommended watching:\n",
    "* Welch Labs, [Neural Networks demystified videos](https://www.youtube.com/watch?v=bxe2T-V8XRs&list=PLiaHhY2iBX9hdHaRr6b7XevZtgZRa1PoU) and [accompanying code](https://github.com/stephencwelch/Neural-Networks-Demystified) \n",
    "\n",
    "Learn more about Neural Networks:\n",
    "* Math 7960 Topics in Statistics (Berton Earnshaw) \n"
   ]
  },
  {
   "cell_type": "code",
   "execution_count": 1,
   "metadata": {
    "slideshow": {
     "slide_type": "slide"
    }
   },
   "outputs": [],
   "source": [
    "import numpy as np\n",
    "from sklearn import datasets\n",
    "from sklearn.datasets import load_iris, make_moons, load_breast_cancer, fetch_mldata, fetch_california_housing\n",
    "from sklearn.datasets import get_data_home\n",
    "# from sklearn.linear_model import Perceptron\n",
    "from sklearn.model_selection import train_test_split\n",
    "from sklearn.preprocessing import StandardScaler, MinMaxScaler\n",
    "from sklearn.neural_network import MLPClassifier, MLPRegressor\n",
    "from sklearn.metrics import classification_report, confusion_matrix\n",
    "from sklearn.linear_model import LinearRegression\n",
    "\n",
    "import matplotlib.pyplot as plt\n",
    "from matplotlib.colors import ListedColormap\n",
    "from mpl_toolkits.mplot3d import Axes3D\n",
    "%matplotlib inline\n",
    "plt.rcParams['figure.figsize'] = (15,9)\n",
    "plt.style.use('ggplot')"
   ]
  },
  {
   "cell_type": "markdown",
   "metadata": {
    "slideshow": {
     "slide_type": "slide"
    }
   },
   "source": [
    "## Neural Networks and deep learning\n",
    "\n",
    "[Artificial Neural Networks](https://en.wikipedia.org/wiki/Artificial_neural_network) were originally motivated by the brain, which is composed of a network of neurons. Each neuron receives a (chemical) signal from other neurons, does a small computation and then decides if and how to release more chemicals. This composition of small calculations can perform complicated tasks! Similarly, an artificial neural network is a network composed of neurons, which we simply think of as a computational units. Although artificial neural networks were originally, motivated by the brain, modern artificial neural networks *do not* try to model it. \n",
    "\n",
    "Neural Networks can generally be used for supervised learning tasks, such as classification and regression. (Neural Networks can also be used for unsupervised learning and reinforcement learning, but we won't talk about this.) So, after today, we'll have the following methods for these two supervised learning tasks: \n",
    "\n",
    "**Regression** \n",
    "+ Linear regression \n",
    "+ k Nearest Neighbors (k-NN)\n",
    "+ Decision Trees\n",
    "+ *Neural Networks*\n",
    "\n",
    "**Classification**\n",
    "+ Logistic Regression\n",
    "+ k Nearest Neighbors (k-NN)\n",
    "+ Decision Trees\n",
    "+ Support vector machines (SVM)\n",
    "+ *Neural Networks*\n",
    "\n",
    "Large-scale neural networks are at the core of [deep learning](https://en.wikipedia.org/wiki/Deep_learning), which has gained much publicity for performing very impressive machine learning tasks in the past few years, such as, \n",
    "* classifying billions of images (*e.g.*, Google Images)\n",
    "+ speech recognition (*e.g.*, Amazon's Alexa or Apple’s Siri)\n",
    "+ video recommendation (*e.g.*, YouTube), \n",
    "+ beating the world champion at the game of Go ([DeepMind’s AlphaGo](https://en.wikipedia.org/wiki/AlphaGo)).\n",
    "\n",
    "As an example, check out the [Open Images Challenge]( https://storage.googleapis.com/openimages/web/index.html).\n",
    "\n"
   ]
  },
  {
   "cell_type": "markdown",
   "metadata": {
    "slideshow": {
     "slide_type": "slide"
    }
   },
   "source": [
    "## Perceptrons\n",
    "\n",
    "The simplest neural network is called the [perceptron](https://en.wikipedia.org/wiki/Perceptron) and was invented in 1957 by Frank Rosenblatt. The *perceptron* is an binary classifier. It is a function that maps a set of $n$ real features $X = \\{x_1, x_2, ..., x_n\\}$ to a binary output: \n",
    "$$\n",
    "f(x) = \n",
    "\\begin{cases}\n",
    "1 & \\textrm{if } \\ w\\cdot x + b > 0 \\\\\n",
    "0 & \\textrm{otherwise}\n",
    "\\end{cases}. \n",
    "$$\n",
    "Here, $w \\in \\mathbb R^n$ is a vector of weights and $b$ is a scalar called the *bias*. (This is very similar to the binary classifier we saw when looking at support vector machines.) \n",
    "\n",
    "It is customary to represent this function by the following diagram. \n",
    "\n",
    "<img src=\"perceptron.png\" title=\"https://tex.stackexchange.com/questions/104334/tikz-diagram-of-a-perceptron\" width=\"400\">\n",
    "\n",
    "Just like for previous classification methods, we first *train* the network on data, which is to say that we find good choices of $w$ and $b$ for the training dataset. Then we can see how well the neural networks performs on the test dataset or use it to classify new data points.\n",
    "\n",
    "Of course, a single perceptron is only a linear discriminator (similar to logistic regression and linear SVM). But things become much more interesting when you start composing many neurons, that is, considering networks with more *layers*. "
   ]
  },
  {
   "cell_type": "markdown",
   "metadata": {},
   "source": [
    "## Multilayer perceptron\n",
    "\n",
    "Like the percpetron, a [**multi-layer perceptron**](https://en.wikipedia.org/wiki/Multilayer_perceptron) is a function that maps features $X = \\{x_1, x_2, ..., x_n\\}$ to a target $y$. Here is a diagram of a perceptron with three *layers*. \n",
    "\n",
    "\n",
    "<img src=\"Colored_neural_network.svg\" title=\"https://en.wikipedia.org/wiki/Artificial_neural_network#/media/File:Colored_neural_network.svg\" \n",
    "width=\"300\">\n",
    " \n",
    "In this neural network, we have \n",
    "+ an *input layer*, which is the same size as the number of features, \n",
    "+ a middle layer, which is usually called a *hidden layer* \n",
    "+ and an *output layer*, which should match the target variables\n",
    "\n",
    "Each layer in this diagram represents a function\n",
    "\n",
    "$$\n",
    "\\begin{pmatrix}\n",
    "x^{h}_1 \\\\\n",
    "x^{h}_2 \\\\\n",
    "x^{h}_3 \\\\\n",
    "x^{h}_4\n",
    "\\end{pmatrix}\n",
    "= \n",
    "\\sigma \\left(\n",
    "\\begin{pmatrix}\n",
    "A^h_{1,1} & A^h_{1,2} & A^h_{1,3} \\\\\n",
    "A^h_{2,1} & A^h_{2,2} & A^h_{2,3} \\\\\n",
    "A^h_{3,1} & A^h_{3,2} & A^h_{3,3} \\\\\n",
    "A^h_{4,1} & A^h_{4,2} & A^h_{4,3}\n",
    "\\end{pmatrix}\n",
    "\\begin{pmatrix}\n",
    "x^{i}_1 \\\\\n",
    "x^{i}_2 \\\\\n",
    "x^{i}_3\n",
    "\\end{pmatrix}\n",
    "+\n",
    "\\begin{pmatrix}\n",
    "b^{h}_1 \\\\\n",
    "b^{h}_2 \\\\\n",
    "b^{h}_3 \\\\\n",
    "b^{h}_4\n",
    "\\end{pmatrix}\n",
    "\\right)\n",
    "$$\n",
    "\n",
    "$$\n",
    "\\begin{pmatrix}\n",
    "x^{o}_1 \\\\\n",
    "x^{o}_2\n",
    "\\end{pmatrix}\n",
    "= \n",
    "\\sigma \\left(\n",
    "\\begin{pmatrix}\n",
    "A^o_{1,1} & A^o_{1,2} & A^o_{1,3} & A^o_{1,4}  \\\\\n",
    "A^o_{2,1} & A^o_{2,2} & A^o_{2,3} & A^o_{1,4}\n",
    "\\end{pmatrix}\n",
    "\\begin{pmatrix}\n",
    "x^{h}_1 \\\\\n",
    "x^{h}_2 \\\\\n",
    "x^{h}_3 \\\\\n",
    "x^{h}_4 \n",
    "\\end{pmatrix}\n",
    "+\n",
    "\\begin{pmatrix}\n",
    "b^{o}_1 \\\\\n",
    "b^{o}_2\n",
    "\\end{pmatrix}\n",
    "\\right)\n",
    "$$\n",
    "\n",
    "Here, the function $\\sigma$ is called the [**activation function**](https://en.wikipedia.org/wiki/Activation_function). We'll discuss these later. \n",
    "\n",
    "An additional function, *e.g.* [softmax](https://en.wikipedia.org/wiki/Softmax_function), is applied to the output layer to give the prediction for classification or regression. \n",
    "\n",
    "Training the network now means that we find the best matrices $A^h$ and $A^o$ as well as the best biases, $b^h$ and $b^o$ for the data. For this relatively simple network, this is already \n",
    "$$ \n",
    "26 = 3\\times 4 + 4\\times 2 + 4 + 2 \n",
    "\\textrm{ parameters}.\n",
    "$$\n"
   ]
  },
  {
   "cell_type": "markdown",
   "metadata": {},
   "source": [
    "## Other network architectures \n",
    "\n",
    "The way in which we put together the neurons is referred to as the **network architecture**. The perceptron and multilayer perceptron are two examples. There are many more. Here is a peek at the [neural-network-zoo](http://www.asimovinstitute.org/neural-network-zoo/): \n",
    "<img src=\"neuralnetworks.png\" title=\"http://www.asimovinstitute.org/neural-network-zoo/\" \n",
    "width=\"700\">\n",
    "\n",
    "The most important thing about all of these neural networks is that there is an *input layer*, typically drawn on the left hand side and an *output layer*, typically drawn on the right hand side. The middle layers are called *hidden layers*. \n",
    "\n",
    "A *deep neural network* is simply a neural network with many hidden layers. \n",
    "\n",
    "In all of these neural network designs, each layer has its own weight matrix and bias vector that needs to be trained (learned). Consequently, *training* a neural network is a much harder job than we have seen for previous methods. It also requires more data. \n",
    "\n",
    "**Example: ImageNet** The [ImageNet project](https://en.wikipedia.org/wiki/ImageNet) is a test dataset for visual object recognition (classification task). The dataset consists of \n",
    "+ 14 million images that have been hand-annotated \n",
    "+ there are approximately 20,000 categories with a typical category, such as \"balloon\" or \"strawberry\", consisting of several hundred images.\n",
    "\n",
    "<img src=\"ImageNetPlot.png\" title=\"https://qz.com/1046350/the-quartz-guide-to-artificial-intelligence-what-is-it-why-is-it-important-and-should-we-be-afraid/\" \n",
    "width=\"500\">\n",
    "\n",
    "The 2017 winning solution, described in [this paper](https://arxiv.org/abs/1709.01507), used a deep Neural Network with 154 layers and $\\sim 10^8$ parameters. "
   ]
  },
  {
   "cell_type": "markdown",
   "metadata": {
    "slideshow": {
     "slide_type": "slide"
    }
   },
   "source": [
    "## Neural networks with scikit-learn\n",
    "\n",
    "Scikit-learn has a Neural Network library [here](http://scikit-learn.org/stable/modules/neural_networks_supervised.html). \n",
    "\n",
    "I want to introduce NN uisng scikit-learn, but wouldn't use this library in practice. Here's a warning from the library: \n",
    "```\n",
    "Warning This implementation is not intended for large-scale applications. In particular, scikit-learn offers no GPU support. For much faster, GPU-based implementations, as well as frameworks offering much more flexibility to build deep learning architectures, see Related Projects.\n",
    "```\n",
    "\n",
    "Scikit-learn has a few different neural network functions:\n",
    "1. [perceptron](http://scikit-learn.org/stable/modules/generated/sklearn.linear_model.Perceptron.html)\n",
    "+ [multi-layer perceptron (MLP) classifier](http://scikit-learn.org/stable/modules/generated/sklearn.neural_network.MLPClassifier.html)\n",
    "+ [multi-layer perceptron (MLP) regressor](http://scikit-learn.org/stable/modules/generated/sklearn.neural_network.MLPRegressor.html)\n",
    "\n",
    "Let's first test the `MLPClassifier` on the [two moons dataset](http://scikit-learn.org/stable/modules/generated/sklearn.datasets.make_moons.html). "
   ]
  },
  {
   "cell_type": "code",
   "execution_count": 2,
   "metadata": {
    "slideshow": {
     "slide_type": "-"
    }
   },
   "outputs": [
    {
     "data": {
      "image/png": "[encoded data removed]",
      "text/plain": [
       "<Figure size 432x288 with 1 Axes>"
      ]
     },
     "metadata": {
      "needs_background": "light"
     },
     "output_type": "display_data"
    }
   ],
   "source": [
    "# X contains two features\n",
    "# y contains labels\n",
    "X,y = make_moons(n_samples=1000,random_state=1,noise=0.2)\n",
    "X = StandardScaler().fit_transform(X)\n",
    "\n",
    "# Plot the data, color by class\n",
    "plt.scatter(X[y == 1, 0], X[y == 1, 1], color=\"DarkBlue\", marker=\"s\",label=\"class 1\")\n",
    "plt.scatter(X[y == 0, 0], X[y == 0, 1], color=\"DarkRed\", marker=\"o\",label=\"class 2\")\n",
    "plt.legend(scatterpoints=1)\n",
    "plt.title('Two Moons Dataset')\n",
    "plt.xlabel('feature 1')\n",
    "plt.ylabel('feature 2')\n",
    "plt.show()"
   ]
  },
  {
   "cell_type": "code",
   "execution_count": 3,
   "metadata": {
    "scrolled": true,
    "slideshow": {
     "slide_type": "-"
    }
   },
   "outputs": [
    {
     "name": "stdout",
     "output_type": "stream",
     "text": [
      "Iteration 1, loss = 0.51045812\n",
      "Iteration 2, loss = 0.35845496\n",
      "Iteration 3, loss = 0.31749613\n",
      "Iteration 4, loss = 0.30982111\n",
      "Iteration 5, loss = 0.28532051\n",
      "Iteration 6, loss = 0.25549117\n",
      "Iteration 7, loss = 0.22452739\n",
      "Iteration 8, loss = 0.17800612\n",
      "Iteration 9, loss = 0.16316997\n",
      "Iteration 10, loss = 0.13639758\n",
      "Iteration 11, loss = 0.16063966\n",
      "Iteration 12, loss = 0.13070544\n",
      "Iteration 13, loss = 0.11477573\n",
      "Iteration 14, loss = 0.11346028\n",
      "Iteration 15, loss = 0.10806099\n",
      "Iteration 16, loss = 0.10551342\n",
      "Iteration 17, loss = 0.10597476\n",
      "Iteration 18, loss = 0.10940523\n",
      "Iteration 19, loss = 0.09356930\n",
      "Iteration 20, loss = 0.10178091\n",
      "Iteration 21, loss = 0.10235648\n",
      "Iteration 22, loss = 0.09331141\n",
      "Iteration 23, loss = 0.09291382\n",
      "Iteration 24, loss = 0.10389002\n",
      "Iteration 25, loss = 0.10466577\n",
      "Iteration 26, loss = 0.10547184\n",
      "Iteration 27, loss = 0.09955820\n",
      "Iteration 28, loss = 0.09368247\n",
      "Iteration 29, loss = 0.10818702\n",
      "Iteration 30, loss = 0.10344410\n",
      "Iteration 31, loss = 0.09573672\n",
      "Iteration 32, loss = 0.09625568\n",
      "Iteration 33, loss = 0.09159585\n",
      "Iteration 34, loss = 0.08867200\n",
      "Iteration 35, loss = 0.08957796\n",
      "Iteration 36, loss = 0.09195005\n",
      "Iteration 37, loss = 0.09599292\n",
      "Iteration 38, loss = 0.09433060\n",
      "Iteration 39, loss = 0.09839697\n",
      "Iteration 40, loss = 0.09261421\n",
      "Iteration 41, loss = 0.09399802\n",
      "Iteration 42, loss = 0.08995889\n",
      "Iteration 43, loss = 0.09023731\n",
      "Iteration 44, loss = 0.09659541\n",
      "Iteration 45, loss = 0.10033014\n",
      "Training loss did not improve more than tol=0.000100 for 10 consecutive epochs. Stopping.\n"
     ]
    },
    {
     "data": {
      "text/plain": [
       "MLPClassifier(activation='relu', alpha=0.0001, batch_size='auto', beta_1=0.9,\n",
       "       beta_2=0.999, early_stopping=False, epsilon=1e-08,\n",
       "       hidden_layer_sizes=(3, 3, 3), learning_rate='constant',\n",
       "       learning_rate_init=0.1, max_iter=1000, momentum=0.9,\n",
       "       n_iter_no_change=10, nesterovs_momentum=True, power_t=0.5,\n",
       "       random_state=1, shuffle=True, solver='adam', tol=0.0001,\n",
       "       validation_fraction=0.1, verbose=10, warm_start=False)"
      ]
     },
     "execution_count": 3,
     "metadata": {},
     "output_type": "execute_result"
    }
   ],
   "source": [
    "model = MLPClassifier(hidden_layer_sizes=(3,3,3), max_iter=1000, alpha=1e-4,\n",
    "                    solver='adam', verbose=10, random_state=1, \n",
    "                    learning_rate_init=.1)\n",
    "model.fit(X, y)"
   ]
  },
  {
   "cell_type": "code",
   "execution_count": 4,
   "metadata": {
    "slideshow": {
     "slide_type": "-"
    }
   },
   "outputs": [
    {
     "data": {
      "image/png": "[encoded data removed]",
      "text/plain": [
       "<Figure size 432x288 with 1 Axes>"
      ]
     },
     "metadata": {
      "needs_background": "light"
     },
     "output_type": "display_data"
    }
   ],
   "source": [
    "# Plot the data, color by class\n",
    "plt.scatter(X[y == 1, 0], X[y == 1, 1], color=\"DarkBlue\", marker=\"s\",label=\"class 1\")\n",
    "plt.scatter(X[y == 0, 0], X[y == 0, 1], color=\"DarkRed\", marker=\"o\",label=\"class 2\")\n",
    "plt.legend(scatterpoints=1)\n",
    "\n",
    "# Plot the predictions made by NN\n",
    "x_min, x_max = X[:,0].min() - 1, X[:, 0].max() + 1\n",
    "y_min, y_max = X[:, 1].min() - 1, X[:, 1].max() + 1\n",
    "xx, yy = np.meshgrid(np.linspace(x_min, x_max, 200),np.linspace(y_min, y_max, 200))\n",
    "zz = model.predict(np.c_[xx.ravel(), yy.ravel()]).reshape(xx.shape)\n",
    "plt.contourf(xx, yy, zz, cmap=ListedColormap(['DarkRed', 'DarkBlue']), alpha=.2)\n",
    "plt.contour(xx, yy, zz, colors=\"black\", alpha=1, linewidths=0.2) \n",
    "\n",
    "plt.xlim(x_min, x_max)\n",
    "plt.ylim(y_min, y_max)\n",
    "plt.title('Classification of Two Moons using MLPClassifier')\n",
    "plt.xlabel('feature 1')\n",
    "plt.ylabel('feature 2')\n",
    "plt.show()"
   ]
  },
  {
   "cell_type": "code",
   "execution_count": 5,
   "metadata": {
    "slideshow": {
     "slide_type": "-"
    }
   },
   "outputs": [
    {
     "name": "stdout",
     "output_type": "stream",
     "text": [
      "After  45  iterations, the loss is  0.10033013570265419\n",
      "model coef shapes\n",
      "(2, 3)\n",
      "(3, 3)\n",
      "(3, 3)\n",
      "(3, 1)\n",
      "model coefs\n",
      "[[-1.41918797  2.07793467 -2.20552592]\n",
      " [ 0.52081192 -0.55491611 -1.0514373 ]]\n",
      "[[ 0.84842331 -1.02831971  1.66618245]\n",
      " [-0.3132015   1.70720383 -0.4805759 ]\n",
      " [ 1.0808197   1.38446598 -0.60569728]]\n",
      "[[-0.78973177 -1.90144951  2.9120805 ]\n",
      " [ 0.29021977  1.66291882 -0.79486371]\n",
      " [-2.03030076  0.19409545  1.14578157]]\n",
      "[[ 0.29704239]\n",
      " [ 1.25857106]\n",
      " [-1.4065154 ]]\n",
      "model intercepts\n",
      "[-0.75124343 -1.30640717  1.10328262]\n",
      "[-3.05574728 -0.11996665  1.53898079]\n",
      "[-1.33853612  0.00433908  1.61335478]\n",
      "[-0.05917532]\n",
      "{'activation': 'relu', 'alpha': 0.0001, 'batch_size': 'auto', 'beta_1': 0.9, 'beta_2': 0.999, 'early_stopping': False, 'epsilon': 1e-08, 'hidden_layer_sizes': (3, 3, 3), 'learning_rate': 'constant', 'learning_rate_init': 0.1, 'max_iter': 1000, 'momentum': 0.9, 'n_iter_no_change': 10, 'nesterovs_momentum': True, 'power_t': 0.5, 'random_state': 1, 'shuffle': True, 'solver': 'adam', 'tol': 0.0001, 'validation_fraction': 0.1, 'verbose': 10, 'warm_start': False}\n"
     ]
    }
   ],
   "source": [
    "print('After ', model.n_iter_, ' iterations, the loss is ', model.loss_)\n",
    "print('model coef shapes')\n",
    "[print(coef.shape) for coef in model.coefs_]\n",
    "print('model coefs')\n",
    "[print(coef) for coef in model.coefs_]\n",
    "print('model intercepts')\n",
    "[print(coef) for coef in model.intercepts_]\n",
    "\n",
    "print(model.get_params())\n"
   ]
  },
  {
   "cell_type": "markdown",
   "metadata": {
    "slideshow": {
     "slide_type": "-"
    }
   },
   "source": [
    "There are a lot more function parameters for [`MLPClassifier`](http://scikit-learn.org/stable/modules/generated/sklearn.neural_network.MLPClassifier.html) than for other scikit-learn classification methods. You'll find that tweaking them also makes a very big difference in the output. Here are some of the important parameters:\n",
    "\n",
    "#### Network architecture parameters\n",
    "\n",
    "+ **hidden_layer_sizes**: tuple, length = n_layers - 2, default (100,). \n",
    "The i-th element represents the number of neurons in the i-th hidden layer.\n",
    "\n",
    "+ **activation**: {‘identity’, ‘logistic’, ‘tanh’, ‘relu’}, default ‘relu’. \n",
    "Activation function for the hidden layer.\n",
    " - ‘identity’, no-op activation, useful to implement linear bottleneck, returns $\\sigma(x) = x$\n",
    " - ‘logistic’, the logistic sigmoid function, returns $\\sigma(x) = 1 / (1 + exp(-x)$).\n",
    " - ‘tanh’, the hyperbolic tan function, returns $\\sigma(x) = tanh(x)$.\n",
    " - ‘relu’, the rectified linear unit function, returns $\\sigma(x) = max(0, x)$.\n",
    " \n",
    "+ **alpha**: float, optional, default 0.0001. L2 penalty (regularization term) parameter.\n",
    "\n",
    "#### Optimization related parameters\n",
    "+ **solver**: {‘lbfgs’, ‘sgd’, ‘adam’}, default ‘adam’. \n",
    "The solver for parameter optimization.\n",
    " - ‘lbfgs’ is an optimizer in the family of quasi-Newton methods.\n",
    " - ‘sgd’ refers to stochastic gradient descent.\n",
    " - ‘adam’ refers to another stochastic gradient-based optimizer\n",
    "\n",
    "+ **max_iter**: int, optional, default 200. \n",
    "Maximum number of iterations. The solver iterates until convergence (determined by ‘tol’) or this number of iterations. For stochastic solvers (‘sgd’, ‘adam’), note that this determines the number of epochs (how many times each data point will be used), not the number of gradient steps.\n",
    "\n",
    "+ **random_state**: int, RandomState instance or None, optional, default None. \n",
    "If int, random_state is the seed used by the random number generator; If RandomState instance, random_state is the random number generator; If None, the random number generator is the RandomState instance used by np.random.\n",
    "\n",
    "+ **tol**: float, optional, default 1e-4. \n",
    "Tolerance for the optimization. When the loss or score is not improving by at least tol for two consecutive iterations, unless learning_rate is set to ‘adaptive’, convergence is considered to be reached and training stops.\n",
    "\n",
    "+ **verbose**: bool, optional, default False. Whether to print progress messages to stdout.\n",
    "\n"
   ]
  },
  {
   "cell_type": "markdown",
   "metadata": {
    "slideshow": {
     "slide_type": "slide"
    }
   },
   "source": [
    "## Activation function \n",
    "\n",
    "There are several choices of **activation function**, $\\sigma(x)$: hyperbolic tangent, logistic, and rectified linear unit (ReLU). In the previous example, we used the default activation function, ReLU. \n",
    "\n",
    " Many more activations functions are listed on [this wikipedia page](https://en.wikipedia.org/wiki/Activation_function).\n",
    "\n"
   ]
  },
  {
   "cell_type": "code",
   "execution_count": 6,
   "metadata": {
    "scrolled": true,
    "slideshow": {
     "slide_type": "-"
    }
   },
   "outputs": [
    {
     "data": {
      "image/png": "[encoded data removed]",
      "text/plain": [
       "<Figure size 792x288 with 2 Axes>"
      ]
     },
     "metadata": {
      "needs_background": "light"
     },
     "output_type": "display_data"
    }
   ],
   "source": [
    "# see Géron, Ch. 10\n",
    "\n",
    "def logit(z):\n",
    "    return 1 / (1 + np.exp(-z))\n",
    "\n",
    "def relu(z):\n",
    "    return np.maximum(0, z)\n",
    "\n",
    "def derivative(f, z, eps=0.000001):\n",
    "    return (f(z + eps) - f(z - eps))/(2 * eps)\n",
    "\n",
    "z = np.linspace(-5, 5, 200)\n",
    "\n",
    "plt.figure(figsize=(11,4))\n",
    "\n",
    "plt.subplot(121)\n",
    "plt.plot(z, np.sign(z), \"r-\", linewidth=2, label=\"Step\")\n",
    "plt.plot(z, logit(z), \"g--\", linewidth=2, label=\"Logit\")\n",
    "plt.plot(z, np.tanh(z), \"b-\", linewidth=2, label=\"Tanh\")\n",
    "plt.plot(z, relu(z), \"m-.\", linewidth=2, label=\"ReLU\")\n",
    "plt.grid(True)\n",
    "plt.legend(loc=\"center right\", fontsize=14)\n",
    "plt.title(\"Activation functions\", fontsize=14)\n",
    "plt.axis([-5, 5, -1.2, 1.2])\n",
    "\n",
    "plt.subplot(122)\n",
    "plt.plot(z, derivative(np.sign, z), \"r-\", linewidth=2, label=\"Step\")\n",
    "plt.plot(0, 0, \"ro\", markersize=5)\n",
    "plt.plot(0, 0, \"rx\", markersize=10)\n",
    "plt.plot(z, derivative(logit, z), \"g--\", linewidth=2, label=\"Logit\")\n",
    "plt.plot(z, derivative(np.tanh, z), \"b-\", linewidth=2, label=\"Tanh\")\n",
    "plt.plot(z, derivative(relu, z), \"m-.\", linewidth=2, label=\"ReLU\")\n",
    "plt.grid(True)\n",
    "#plt.legend(loc=\"center right\", fontsize=14)\n",
    "plt.title(\"Derivatives\", fontsize=14)\n",
    "plt.axis([-5, 5, -0.2, 1.2])\n",
    "\n",
    "plt.show()"
   ]
  },
  {
   "cell_type": "markdown",
   "metadata": {
    "slideshow": {
     "slide_type": "-"
    }
   },
   "source": [
    "**Exercise**: By changing the hidden_layer_sizes and activation function, can you find a better classifier for the two moons dataset above?\n",
    "\n",
    "You might want to remove the preselected random_state. "
   ]
  },
  {
   "cell_type": "markdown",
   "metadata": {
    "slideshow": {
     "slide_type": "-"
    }
   },
   "source": [
    "## Training a neural network\n",
    "We'll follow the scikit-learn  [user guide](http://scikit-learn.org/stable/modules/neural_networks_supervised.html) \n",
    "to see how the multi-layer perceptron (MLP) neural network is trained. \n",
    "\n",
    "The MLP uses a loss function of the form \n",
    "$$\n",
    "Loss(\\hat{y},y,W) =  \\frac{1}{2} \\sum_{i=1}^n f(\\hat{y}_i(x_i,W),y_i) + \\frac{\\alpha}{2} \\|W\\|_2^2\n",
    "$$\n",
    "Here, \n",
    "+ $y_i$ are the labels for the $i$-th example, \n",
    "+ $\\hat{y}_i(W)$ are the predicted label for the $i$-th example, \n",
    "+ W is a list of all the parameters in the model\n",
    "+ $f$ is a function that measures the error, typically $L^2$ difference for regression or cross-entropy for classification, and \n",
    "+ $\\alpha$ is a regularization parameter. \n",
    "\n",
    "Starting from initial random weights, the loss function is minimized by repeatedly updating these weights. The details of this depend on the chosen method, either a quasi-Newton method `lbfgs`, stochastic gradient descent `sgd`, or `adam`. \n",
    "\n",
    "In the **gradient descent method**, the gradient $\\nabla_{W} Loss$ of the loss with respect to the weights is computed. The weights are then changed in the negative gradient direction using a step-length or learning-rate, $\\varepsilon>0$: \n",
    "$$\n",
    "W \\leftarrow W - \\varepsilon \\nabla_W {Loss}.\n",
    "$$\n",
    "The algorithm stops when it reaches a preset maximum number of iterations, `max_iter`, \n",
    "or when the improvement in loss is below a preset small number, `tol`.\n",
    "\n",
    "The gradient of $W$ is simply computed using the chain rule from calculus. In principle the idea is simple, but in practice it is a tedious and complicated computation. Data analysts have figured out a clever way how to organize this calculation, which is called *back propagation*. \n",
    "\n",
    "A complete description of `lbfgs`, `sgd`, and `adam` is beyond the scope of the course. I'll just say that they are clever modifications to the gradient descent method. \n",
    "\n",
    "Let's see a comparison of optimization methods, taken from [this page](http://scikit-learn.org/stable/auto_examples/neural_networks/plot_mlp_training_curves.html). "
   ]
  },
  {
   "cell_type": "code",
   "execution_count": 7,
   "metadata": {
    "scrolled": false,
    "slideshow": {
     "slide_type": "-"
    }
   },
   "outputs": [
    {
     "name": "stdout",
     "output_type": "stream",
     "text": [
      "\n",
      "learning on dataset iris\n",
      "training: constant learning-rate\n"
     ]
    },
    {
     "name": "stderr",
     "output_type": "stream",
     "text": [
      "/Applications/anaconda3/lib/python3.7/site-packages/sklearn/neural_network/multilayer_perceptron.py:562: ConvergenceWarning: Stochastic Optimizer: Maximum iterations (400) reached and the optimization hasn't converged yet.\n",
      "  % self.max_iter, ConvergenceWarning)\n"
     ]
    },
    {
     "name": "stdout",
     "output_type": "stream",
     "text": [
      "Training set score: 0.980000\n",
      "Training set loss: 0.096950\n",
      "training: constant with momentum\n",
      "Training set score: 0.980000\n",
      "Training set loss: 0.049530\n",
      "training: constant with Nesterov's momentum\n",
      "Training set score: 0.980000\n",
      "Training set loss: 0.049540\n",
      "training: inv-scaling learning-rate\n",
      "Training set score: 0.360000\n",
      "Training set loss: 0.978444\n",
      "training: inv-scaling with momentum\n"
     ]
    },
    {
     "name": "stderr",
     "output_type": "stream",
     "text": [
      "/Applications/anaconda3/lib/python3.7/site-packages/sklearn/neural_network/multilayer_perceptron.py:562: ConvergenceWarning: Stochastic Optimizer: Maximum iterations (400) reached and the optimization hasn't converged yet.\n",
      "  % self.max_iter, ConvergenceWarning)\n"
     ]
    },
    {
     "name": "stdout",
     "output_type": "stream",
     "text": [
      "Training set score: 0.860000\n",
      "Training set loss: 0.503452\n",
      "training: inv-scaling with Nesterov's momentum\n"
     ]
    },
    {
     "name": "stderr",
     "output_type": "stream",
     "text": [
      "/Applications/anaconda3/lib/python3.7/site-packages/sklearn/neural_network/multilayer_perceptron.py:562: ConvergenceWarning: Stochastic Optimizer: Maximum iterations (400) reached and the optimization hasn't converged yet.\n",
      "  % self.max_iter, ConvergenceWarning)\n"
     ]
    },
    {
     "name": "stdout",
     "output_type": "stream",
     "text": [
      "Training set score: 0.860000\n",
      "Training set loss: 0.504185\n",
      "training: adam\n",
      "Training set score: 0.980000\n",
      "Training set loss: 0.045311\n",
      "\n",
      "learning on dataset digits\n",
      "training: constant learning-rate\n"
     ]
    },
    {
     "name": "stderr",
     "output_type": "stream",
     "text": [
      "/Applications/anaconda3/lib/python3.7/site-packages/sklearn/neural_network/multilayer_perceptron.py:562: ConvergenceWarning: Stochastic Optimizer: Maximum iterations (15) reached and the optimization hasn't converged yet.\n",
      "  % self.max_iter, ConvergenceWarning)\n",
      "/Applications/anaconda3/lib/python3.7/site-packages/sklearn/neural_network/multilayer_perceptron.py:562: ConvergenceWarning: Stochastic Optimizer: Maximum iterations (15) reached and the optimization hasn't converged yet.\n",
      "  % self.max_iter, ConvergenceWarning)\n"
     ]
    },
    {
     "name": "stdout",
     "output_type": "stream",
     "text": [
      "Training set score: 0.956038\n",
      "Training set loss: 0.243802\n",
      "training: constant with momentum\n",
      "Training set score: 0.992766\n",
      "Training set loss: 0.041297\n",
      "training: constant with Nesterov's momentum\n"
     ]
    },
    {
     "name": "stderr",
     "output_type": "stream",
     "text": [
      "/Applications/anaconda3/lib/python3.7/site-packages/sklearn/neural_network/multilayer_perceptron.py:562: ConvergenceWarning: Stochastic Optimizer: Maximum iterations (15) reached and the optimization hasn't converged yet.\n",
      "  % self.max_iter, ConvergenceWarning)\n",
      "/Applications/anaconda3/lib/python3.7/site-packages/sklearn/neural_network/multilayer_perceptron.py:562: ConvergenceWarning: Stochastic Optimizer: Maximum iterations (15) reached and the optimization hasn't converged yet.\n",
      "  % self.max_iter, ConvergenceWarning)\n"
     ]
    },
    {
     "name": "stdout",
     "output_type": "stream",
     "text": [
      "Training set score: 0.993879\n",
      "Training set loss: 0.042898\n",
      "training: inv-scaling learning-rate\n",
      "Training set score: 0.638843\n",
      "Training set loss: 1.855465\n",
      "training: inv-scaling with momentum\n"
     ]
    },
    {
     "name": "stderr",
     "output_type": "stream",
     "text": [
      "/Applications/anaconda3/lib/python3.7/site-packages/sklearn/neural_network/multilayer_perceptron.py:562: ConvergenceWarning: Stochastic Optimizer: Maximum iterations (15) reached and the optimization hasn't converged yet.\n",
      "  % self.max_iter, ConvergenceWarning)\n",
      "/Applications/anaconda3/lib/python3.7/site-packages/sklearn/neural_network/multilayer_perceptron.py:562: ConvergenceWarning: Stochastic Optimizer: Maximum iterations (15) reached and the optimization hasn't converged yet.\n",
      "  % self.max_iter, ConvergenceWarning)\n"
     ]
    },
    {
     "name": "stdout",
     "output_type": "stream",
     "text": [
      "Training set score: 0.912632\n",
      "Training set loss: 0.290584\n",
      "training: inv-scaling with Nesterov's momentum\n",
      "Training set score: 0.909293\n",
      "Training set loss: 0.318387\n",
      "training: adam\n"
     ]
    },
    {
     "name": "stderr",
     "output_type": "stream",
     "text": [
      "/Applications/anaconda3/lib/python3.7/site-packages/sklearn/neural_network/multilayer_perceptron.py:562: ConvergenceWarning: Stochastic Optimizer: Maximum iterations (15) reached and the optimization hasn't converged yet.\n",
      "  % self.max_iter, ConvergenceWarning)\n"
     ]
    },
    {
     "name": "stdout",
     "output_type": "stream",
     "text": [
      "Training set score: 0.991653\n",
      "Training set loss: 0.045934\n",
      "\n",
      "learning on dataset circles\n",
      "training: constant learning-rate\n",
      "Training set score: 0.840000\n",
      "Training set loss: 0.601052\n",
      "training: constant with momentum\n"
     ]
    },
    {
     "name": "stderr",
     "output_type": "stream",
     "text": [
      "/Applications/anaconda3/lib/python3.7/site-packages/sklearn/neural_network/multilayer_perceptron.py:562: ConvergenceWarning: Stochastic Optimizer: Maximum iterations (400) reached and the optimization hasn't converged yet.\n",
      "  % self.max_iter, ConvergenceWarning)\n",
      "/Applications/anaconda3/lib/python3.7/site-packages/sklearn/neural_network/multilayer_perceptron.py:562: ConvergenceWarning: Stochastic Optimizer: Maximum iterations (400) reached and the optimization hasn't converged yet.\n",
      "  % self.max_iter, ConvergenceWarning)\n"
     ]
    },
    {
     "name": "stdout",
     "output_type": "stream",
     "text": [
      "Training set score: 0.940000\n",
      "Training set loss: 0.157334\n",
      "training: constant with Nesterov's momentum\n",
      "Training set score: 0.940000\n",
      "Training set loss: 0.154453\n",
      "training: inv-scaling learning-rate\n",
      "Training set score: 0.500000\n",
      "Training set loss: 0.692470\n",
      "training: inv-scaling with momentum\n",
      "Training set score: 0.500000\n",
      "Training set loss: 0.689143\n",
      "training: inv-scaling with Nesterov's momentum\n",
      "Training set score: 0.500000\n",
      "Training set loss: 0.689751\n",
      "training: adam\n"
     ]
    },
    {
     "name": "stderr",
     "output_type": "stream",
     "text": [
      "/Applications/anaconda3/lib/python3.7/site-packages/sklearn/neural_network/multilayer_perceptron.py:562: ConvergenceWarning: Stochastic Optimizer: Maximum iterations (400) reached and the optimization hasn't converged yet.\n",
      "  % self.max_iter, ConvergenceWarning)\n"
     ]
    },
    {
     "name": "stdout",
     "output_type": "stream",
     "text": [
      "Training set score: 0.940000\n",
      "Training set loss: 0.150527\n",
      "\n",
      "learning on dataset moons\n",
      "training: constant learning-rate\n",
      "Training set score: 0.850000\n",
      "Training set loss: 0.341523\n",
      "training: constant with momentum\n",
      "Training set score: 0.850000\n",
      "Training set loss: 0.336188\n",
      "training: constant with Nesterov's momentum\n",
      "Training set score: 0.850000\n",
      "Training set loss: 0.335919\n",
      "training: inv-scaling learning-rate\n",
      "Training set score: 0.500000\n",
      "Training set loss: 0.689015\n",
      "training: inv-scaling with momentum\n",
      "Training set score: 0.830000\n",
      "Training set loss: 0.512595\n",
      "training: inv-scaling with Nesterov's momentum\n"
     ]
    },
    {
     "name": "stderr",
     "output_type": "stream",
     "text": [
      "/Applications/anaconda3/lib/python3.7/site-packages/sklearn/neural_network/multilayer_perceptron.py:562: ConvergenceWarning: Stochastic Optimizer: Maximum iterations (400) reached and the optimization hasn't converged yet.\n",
      "  % self.max_iter, ConvergenceWarning)\n",
      "/Applications/anaconda3/lib/python3.7/site-packages/sklearn/neural_network/multilayer_perceptron.py:562: ConvergenceWarning: Stochastic Optimizer: Maximum iterations (400) reached and the optimization hasn't converged yet.\n",
      "  % self.max_iter, ConvergenceWarning)\n"
     ]
    },
    {
     "name": "stdout",
     "output_type": "stream",
     "text": [
      "Training set score: 0.830000\n",
      "Training set loss: 0.513034\n",
      "training: adam\n",
      "Training set score: 0.930000\n",
      "Training set loss: 0.170087\n"
     ]
    },
    {
     "name": "stderr",
     "output_type": "stream",
     "text": [
      "/Applications/anaconda3/lib/python3.7/site-packages/sklearn/neural_network/multilayer_perceptron.py:562: ConvergenceWarning: Stochastic Optimizer: Maximum iterations (400) reached and the optimization hasn't converged yet.\n",
      "  % self.max_iter, ConvergenceWarning)\n"
     ]
    },
    {
     "data": {
      "image/png": "[encoded data removed]",
      "text/plain": [
       "<Figure size 1080x720 with 4 Axes>"
      ]
     },
     "metadata": {
      "needs_background": "light"
     },
     "output_type": "display_data"
    }
   ],
   "source": [
    "# different learning rate schedules and momentum parameters\n",
    "params = [{'solver': 'sgd', 'learning_rate': 'constant', 'momentum': 0,\n",
    "           'learning_rate_init': 0.2},\n",
    "          {'solver': 'sgd', 'learning_rate': 'constant', 'momentum': .9,\n",
    "           'nesterovs_momentum': False, 'learning_rate_init': 0.2},\n",
    "          {'solver': 'sgd', 'learning_rate': 'constant', 'momentum': .9,\n",
    "           'nesterovs_momentum': True, 'learning_rate_init': 0.2},\n",
    "          {'solver': 'sgd', 'learning_rate': 'invscaling', 'momentum': 0,\n",
    "           'learning_rate_init': 0.2},\n",
    "          {'solver': 'sgd', 'learning_rate': 'invscaling', 'momentum': .9,\n",
    "           'nesterovs_momentum': True, 'learning_rate_init': 0.2},\n",
    "          {'solver': 'sgd', 'learning_rate': 'invscaling', 'momentum': .9,\n",
    "           'nesterovs_momentum': False, 'learning_rate_init': 0.2},\n",
    "          {'solver': 'adam', 'learning_rate_init': 0.01}]\n",
    "\n",
    "labels = [\"constant learning-rate\", \"constant with momentum\",\n",
    "          \"constant with Nesterov's momentum\",\n",
    "          \"inv-scaling learning-rate\", \"inv-scaling with momentum\",\n",
    "          \"inv-scaling with Nesterov's momentum\", \"adam\"]\n",
    "\n",
    "plot_args = [{'c': 'red', 'linestyle': '-'},\n",
    "             {'c': 'green', 'linestyle': '-'},\n",
    "             {'c': 'blue', 'linestyle': '-'},\n",
    "             {'c': 'red', 'linestyle': '--'},\n",
    "             {'c': 'green', 'linestyle': '--'},\n",
    "             {'c': 'blue', 'linestyle': '--'},\n",
    "             {'c': 'black', 'linestyle': '-'}]\n",
    "\n",
    "\n",
    "def plot_on_dataset(X, y, ax, name):\n",
    "    # for each dataset, plot learning for each learning strategy\n",
    "    print(\"\\nlearning on dataset %s\" % name)\n",
    "    ax.set_title(name)\n",
    "    X = MinMaxScaler().fit_transform(X)\n",
    "    mlps = []\n",
    "    if name == \"digits\":\n",
    "        # digits is larger but converges fairly quickly\n",
    "        max_iter = 15\n",
    "    else:\n",
    "        max_iter = 400\n",
    "\n",
    "    for label, param in zip(labels, params):\n",
    "        print(\"training: %s\" % label)\n",
    "        mlp = MLPClassifier(verbose=0, random_state=0,\n",
    "                            max_iter=max_iter, **param)\n",
    "        mlp.fit(X, y)\n",
    "        mlps.append(mlp)\n",
    "        print(\"Training set score: %f\" % mlp.score(X, y))\n",
    "        print(\"Training set loss: %f\" % mlp.loss_)\n",
    "    for mlp, label, args in zip(mlps, labels, plot_args):\n",
    "            ax.plot(mlp.loss_curve_, label=label, **args)\n",
    "\n",
    "\n",
    "fig, axes = plt.subplots(2, 2, figsize=(15, 10))\n",
    "# load / generate some toy datasets\n",
    "iris = datasets.load_iris()\n",
    "digits = datasets.load_digits()\n",
    "data_sets = [(iris.data, iris.target),\n",
    "             (digits.data, digits.target),\n",
    "             datasets.make_circles(noise=0.2, factor=0.5, random_state=1),\n",
    "             datasets.make_moons(noise=0.3, random_state=0)]\n",
    "\n",
    "for ax, data, name in zip(axes.ravel(), data_sets, ['iris', 'digits',\n",
    "                                                    'circles', 'moons']):\n",
    "    plot_on_dataset(*data, ax=ax, name=name)\n",
    "\n",
    "fig.legend(ax.get_lines(), labels, ncol=3, loc=\"upper center\")\n",
    "plt.show()"
   ]
  },
  {
   "cell_type": "markdown",
   "metadata": {
    "slideshow": {
     "slide_type": "-"
    }
   },
   "source": [
    "Some advise on optimization methods according to [this page](http://scikit-learn.org/stable/modules/neural_networks_supervised.html): \n",
    "* Empirically, we observed that L-BFGS converges faster and with better solutions on small datasets. For relatively large datasets, however, Adam is very robust. It usually converges quickly and gives pretty good performance. SGD with momentum or Nesterov’s momentum, on the other hand, can perform better than those two algorithms if learning rate is correctly tuned."
   ]
  },
  {
   "cell_type": "markdown",
   "metadata": {
    "slideshow": {
     "slide_type": "slide"
    }
   },
   "source": [
    "## Example: breast cancer data"
   ]
  },
  {
   "cell_type": "code",
   "execution_count": 8,
   "metadata": {
    "scrolled": false,
    "slideshow": {
     "slide_type": "-"
    }
   },
   "outputs": [
    {
     "name": "stdout",
     "output_type": "stream",
     "text": [
      "dict_keys(['data', 'target', 'target_names', 'DESCR', 'feature_names', 'filename'])\n",
      ".. _breast_cancer_dataset:\n",
      "\n",
      "Breast cancer wisconsin (diagnostic) dataset\n",
      "--------------------------------------------\n",
      "\n",
      "**Data Set Characteristics:**\n",
      "\n",
      "    :Number of Instances: 569\n",
      "\n",
      "    :Number of Attributes: 30 numeric, predictive attributes and the class\n",
      "\n",
      "    :Attribute Information:\n",
      "        - radius (mean of distances from center to points on the perimeter)\n",
      "        - texture (standard deviation of gray-scale values)\n",
      "        - perimeter\n",
      "        - area\n",
      "        - smoothness (local variation in radius lengths)\n",
      "        - compactness (perimeter^2 / area - 1.0)\n",
      "        - concavity (severity of concave portions of the contour)\n",
      "        - concave points (number of concave portions of the contour)\n",
      "        - symmetry \n",
      "        - fractal dimension (\"coastline approximation\" - 1)\n",
      "\n",
      "        The mean, standard error, and \"worst\" or largest (mean of the three\n",
      "        largest values) of these features were computed for each image,\n",
      "        resulting in 30 features.  For instance, field 3 is Mean Radius, field\n",
      "        13 is Radius SE, field 23 is Worst Radius.\n",
      "\n",
      "        - class:\n",
      "                - WDBC-Malignant\n",
      "                - WDBC-Benign\n",
      "\n",
      "    :Summary Statistics:\n",
      "\n",
      "    ===================================== ====== ======\n",
      "                                           Min    Max\n",
      "    ===================================== ====== ======\n",
      "    radius (mean):                        6.981  28.11\n",
      "    texture (mean):                       9.71   39.28\n",
      "    perimeter (mean):                     43.79  188.5\n",
      "    area (mean):                          143.5  2501.0\n",
      "    smoothness (mean):                    0.053  0.163\n",
      "    compactness (mean):                   0.019  0.345\n",
      "    concavity (mean):                     0.0    0.427\n",
      "    concave points (mean):                0.0    0.201\n",
      "    symmetry (mean):                      0.106  0.304\n",
      "    fractal dimension (mean):             0.05   0.097\n",
      "    radius (standard error):              0.112  2.873\n",
      "    texture (standard error):             0.36   4.885\n",
      "    perimeter (standard error):           0.757  21.98\n",
      "    area (standard error):                6.802  542.2\n",
      "    smoothness (standard error):          0.002  0.031\n",
      "    compactness (standard error):         0.002  0.135\n",
      "    concavity (standard error):           0.0    0.396\n",
      "    concave points (standard error):      0.0    0.053\n",
      "    symmetry (standard error):            0.008  0.079\n",
      "    fractal dimension (standard error):   0.001  0.03\n",
      "    radius (worst):                       7.93   36.04\n",
      "    texture (worst):                      12.02  49.54\n",
      "    perimeter (worst):                    50.41  251.2\n",
      "    area (worst):                         185.2  4254.0\n",
      "    smoothness (worst):                   0.071  0.223\n",
      "    compactness (worst):                  0.027  1.058\n",
      "    concavity (worst):                    0.0    1.252\n",
      "    concave points (worst):               0.0    0.291\n",
      "    symmetry (worst):                     0.156  0.664\n",
      "    fractal dimension (worst):            0.055  0.208\n",
      "    ===================================== ====== ======\n",
      "\n",
      "    :Missing Attribute Values: None\n",
      "\n",
      "    :Class Distribution: 212 - Malignant, 357 - Benign\n",
      "\n",
      "    :Creator:  Dr. William H. Wolberg, W. Nick Street, Olvi L. Mangasarian\n",
      "\n",
      "    :Donor: Nick Street\n",
      "\n",
      "    :Date: November, 1995\n",
      "\n",
      "This is a copy of UCI ML Breast Cancer Wisconsin (Diagnostic) datasets.\n",
      "https://goo.gl/U2Uwz2\n",
      "\n",
      "Features are computed from a digitized image of a fine needle\n",
      "aspirate (FNA) of a breast mass.  They describe\n",
      "characteristics of the cell nuclei present in the image.\n",
      "\n",
      "Separating plane described above was obtained using\n",
      "Multisurface Method-Tree (MSM-T) [K. P. Bennett, \"Decision Tree\n",
      "Construction Via Linear Programming.\" Proceedings of the 4th\n",
      "Midwest Artificial Intelligence and Cognitive Science Society,\n",
      "pp. 97-101, 1992], a classification method which uses linear\n",
      "programming to construct a decision tree.  Relevant features\n",
      "were selected using an exhaustive search in the space of 1-4\n",
      "features and 1-3 separating planes.\n",
      "\n",
      "The actual linear program used to obtain the separating plane\n",
      "in the 3-dimensional space is that described in:\n",
      "[K. P. Bennett and O. L. Mangasarian: \"Robust Linear\n",
      "Programming Discrimination of Two Linearly Inseparable Sets\",\n",
      "Optimization Methods and Software 1, 1992, 23-34].\n",
      "\n",
      "This database is also available through the UW CS ftp server:\n",
      "\n",
      "ftp ftp.cs.wisc.edu\n",
      "cd math-prog/cpo-dataset/machine-learn/WDBC/\n",
      "\n",
      ".. topic:: References\n",
      "\n",
      "   - W.N. Street, W.H. Wolberg and O.L. Mangasarian. Nuclear feature extraction \n",
      "     for breast tumor diagnosis. IS&T/SPIE 1993 International Symposium on \n",
      "     Electronic Imaging: Science and Technology, volume 1905, pages 861-870,\n",
      "     San Jose, CA, 1993.\n",
      "   - O.L. Mangasarian, W.N. Street and W.H. Wolberg. Breast cancer diagnosis and \n",
      "     prognosis via linear programming. Operations Research, 43(4), pages 570-577, \n",
      "     July-August 1995.\n",
      "   - W.H. Wolberg, W.N. Street, and O.L. Mangasarian. Machine learning techniques\n",
      "     to diagnose breast cancer from fine-needle aspirates. Cancer Letters 77 (1994) \n",
      "     163-171.\n"
     ]
    }
   ],
   "source": [
    "cancer = load_breast_cancer()\n",
    "print(cancer.keys())\n",
    "\n",
    "# 569 data points with 30 features\n",
    "cancer['data'].shape\n",
    "\n",
    "# full description:\n",
    "print(cancer['DESCR'])\n",
    "\n",
    "X = cancer['data']\n",
    "y = cancer['target']\n",
    "X_train, X_test, y_train, y_test = train_test_split(X, y, test_size=.2)\n",
    "\n",
    "scaler = StandardScaler()\n",
    "scaler.fit(X_train) # Fit only to the training data\n",
    "\n",
    "# Apply scaling to data\n",
    "X_train = scaler.transform(X_train)\n",
    "X_test = scaler.transform(X_test)\n"
   ]
  },
  {
   "cell_type": "code",
   "execution_count": 9,
   "metadata": {
    "slideshow": {
     "slide_type": "-"
    }
   },
   "outputs": [
    {
     "name": "stdout",
     "output_type": "stream",
     "text": [
      "[[46  0]\n",
      " [ 2 66]]\n"
     ]
    }
   ],
   "source": [
    "mlp = MLPClassifier(hidden_layer_sizes=(30,30,30),random_state=1)\n",
    "mlp.fit(X_train,y_train)\n",
    "\n",
    "y_pred = mlp.predict(X_test)\n",
    "print(confusion_matrix(y_test,y_pred))"
   ]
  },
  {
   "cell_type": "markdown",
   "metadata": {
    "slideshow": {
     "slide_type": "slide"
    }
   },
   "source": [
    "## Example: MNIST dataset\n",
    "\n",
    "Let's train a multi layer perceptron on the MNIST dataset. \n",
    "\n",
    "This MNIST database contains a total of 70,000 examples of handwritten digits of size 28x28 pixels, labeled from 0 to 9.\n",
    "\n",
    "To download this MNIST dataset, you can no longer simply use \n",
    "```\n",
    "mnist = fetch_mldata(\"MNIST original\")\n",
    "```\n",
    "\n",
    "Following the hints on [this website](https://stackoverflow.com/questions/51301570/fetch-mldata-how-to-manually-set-up-mnist-dataset-when-source-server-is-down/51301798#51301798), \n",
    "you should download the dataset directly from [this website](https://github.com/amplab/datascience-sp14/blob/master/lab7/mldata/mnist-original.mat) and save it to the folder  `mldata` in the directory you get if you run the command \n",
    "```\n",
    "get_data_home()\n",
    "```\n"
   ]
  },
  {
   "cell_type": "code",
   "execution_count": 10,
   "metadata": {
    "slideshow": {
     "slide_type": "-"
    }
   },
   "outputs": [
    {
     "name": "stderr",
     "output_type": "stream",
     "text": [
      "/Applications/anaconda3/lib/python3.7/site-packages/sklearn/utils/deprecation.py:77: DeprecationWarning: Function fetch_mldata is deprecated; fetch_mldata was deprecated in version 0.20 and will be removed in version 0.22\n",
      "  warnings.warn(msg, category=DeprecationWarning)\n",
      "/Applications/anaconda3/lib/python3.7/site-packages/sklearn/utils/deprecation.py:77: DeprecationWarning: Function mldata_filename is deprecated; mldata_filename was deprecated in version 0.20 and will be removed in version 0.22\n",
      "  warnings.warn(msg, category=DeprecationWarning)\n"
     ]
    }
   ],
   "source": [
    "mnist = fetch_mldata('MNIST original',transpose_data=True, data_home=get_data_home())\n",
    "\n",
    "# rescale the data, use the traditional train/test split\n",
    "X, y = mnist.data / 255., mnist.target\n",
    "X_train, X_test = X[:60000], X[60000:]\n",
    "y_train, y_test = y[:60000], y[60000:]"
   ]
  },
  {
   "cell_type": "code",
   "execution_count": 11,
   "metadata": {
    "slideshow": {
     "slide_type": "-"
    }
   },
   "outputs": [
    {
     "name": "stdout",
     "output_type": "stream",
     "text": [
      "Iteration 1, loss = 0.40451061\n",
      "Iteration 2, loss = 0.15583057\n",
      "Iteration 3, loss = 0.11098385\n",
      "Iteration 4, loss = 0.08411502\n",
      "Iteration 5, loss = 0.06846576\n",
      "Iteration 6, loss = 0.05652346\n",
      "Iteration 7, loss = 0.04633846\n",
      "Iteration 8, loss = 0.03762209\n",
      "Iteration 9, loss = 0.03365538\n",
      "Iteration 10, loss = 0.02884553\n",
      "Iteration 11, loss = 0.02224694\n",
      "Iteration 12, loss = 0.01873422\n",
      "Iteration 13, loss = 0.01647119\n",
      "Iteration 14, loss = 0.01460615\n",
      "Iteration 15, loss = 0.01141324\n",
      "Iteration 16, loss = 0.01314417\n",
      "Iteration 17, loss = 0.01043379\n",
      "Iteration 18, loss = 0.00753701\n",
      "Iteration 19, loss = 0.00898900\n",
      "Iteration 20, loss = 0.00699743\n",
      "Iteration 21, loss = 0.00740891\n",
      "Iteration 22, loss = 0.00942422\n",
      "Iteration 23, loss = 0.00850921\n",
      "Iteration 24, loss = 0.00435737\n",
      "Iteration 25, loss = 0.00274928\n",
      "Iteration 26, loss = 0.00146159\n",
      "Iteration 27, loss = 0.00088644\n",
      "Iteration 28, loss = 0.00077701\n",
      "Iteration 29, loss = 0.00066393\n",
      "Iteration 30, loss = 0.00186862\n",
      "Iteration 31, loss = 0.03259270\n",
      "Iteration 32, loss = 0.00735896\n",
      "Iteration 33, loss = 0.00332227\n",
      "Iteration 34, loss = 0.00166411\n",
      "Iteration 35, loss = 0.00095020\n",
      "Iteration 36, loss = 0.00327452\n",
      "Iteration 37, loss = 0.01322640\n",
      "Iteration 38, loss = 0.00604274\n",
      "Iteration 39, loss = 0.00399322\n",
      "Iteration 40, loss = 0.00224212\n",
      "Training loss did not improve more than tol=0.000100 for 10 consecutive epochs. Stopping.\n",
      "Training set score: 0.998933\n",
      "Test set score: 0.978800\n",
      "[[ 969    0    1    0    1    0    2    0    4    3]\n",
      " [   0 1126    2    1    0    1    2    1    2    0]\n",
      " [   4    0 1020    1    0    0    0    2    4    1]\n",
      " [   0    1    6  983    0    7    1    2    6    4]\n",
      " [   1    1    5    0  948    0    6    1    1   19]\n",
      " [   2    0    0    6    1  870    7    0    4    2]\n",
      " [   3    3    2    1    3    3  942    0    1    0]\n",
      " [   2    4   16    1    0    0    0  990    4   11]\n",
      " [   7    0    3    1    3    1    1    2  952    4]\n",
      " [   3    2    1    2    4    4    0    2    3  988]]\n"
     ]
    }
   ],
   "source": [
    "mlp = MLPClassifier(hidden_layer_sizes=(100, 100), max_iter=400, alpha=1e-4,\n",
    "                     solver='adam', verbose=10, tol=1e-4, random_state=1)\n",
    "mlp.fit(X_train, y_train)\n",
    "\n",
    "print(\"Training set score: %f\" % mlp.score(X_train, y_train))\n",
    "print(\"Test set score: %f\" % mlp.score(X_test, y_test))\n",
    "\n",
    "y_pred = mlp.predict(X_test)\n",
    "print(confusion_matrix(y_test,y_pred))"
   ]
  },
  {
   "cell_type": "markdown",
   "metadata": {
    "slideshow": {
     "slide_type": "-"
    }
   },
   "source": [
    "**Exercise**: By adjusting the parameters in the MLPClassifier, improve the test set score. \n",
    "    \n",
    "\n",
    "**Note**: [This webpage](http://scikit-learn.org/stable/auto_examples/neural_networks/plot_mnist_filters.html)\n",
    "tries to interpret the MLP classification weights learned for the MNIST dataset. \n",
    "\n"
   ]
  },
  {
   "cell_type": "markdown",
   "metadata": {
    "slideshow": {
     "slide_type": "slide"
    }
   },
   "source": [
    "## Example: Regression with Neural Networks in scikit-learn\n",
    "\n",
    "We can also do regression using Neural Networks! We'll illustrate this on a California housing dataset. \n",
    "\n",
    "We'll use a multi-layer perceptron for regression, implemented in the scikit-learn [`MLPRegressor`](http://scikit-learn.org/stable/modules/generated/sklearn.neural_network.MLPRegressor.html) function. "
   ]
  },
  {
   "cell_type": "code",
   "execution_count": 12,
   "metadata": {},
   "outputs": [
    {
     "name": "stdout",
     "output_type": "stream",
     "text": [
      "dict_keys(['data', 'target', 'feature_names', 'DESCR'])\n",
      ".. _california_housing_dataset:\n",
      "\n",
      "California Housing dataset\n",
      "--------------------------\n",
      "\n",
      "**Data Set Characteristics:**\n",
      "\n",
      "    :Number of Instances: 20640\n",
      "\n",
      "    :Number of Attributes: 8 numeric, predictive attributes and the target\n",
      "\n",
      "    :Attribute Information:\n",
      "        - MedInc        median income in block\n",
      "        - HouseAge      median house age in block\n",
      "        - AveRooms      average number of rooms\n",
      "        - AveBedrms     average number of bedrooms\n",
      "        - Population    block population\n",
      "        - AveOccup      average house occupancy\n",
      "        - Latitude      house block latitude\n",
      "        - Longitude     house block longitude\n",
      "\n",
      "    :Missing Attribute Values: None\n",
      "\n",
      "This dataset was obtained from the StatLib repository.\n",
      "http://lib.stat.cmu.edu/datasets/\n",
      "\n",
      "The target variable is the median house value for California districts.\n",
      "\n",
      "This dataset was derived from the 1990 U.S. census, using one row per census\n",
      "block group. A block group is the smallest geographical unit for which the U.S.\n",
      "Census Bureau publishes sample data (a block group typically has a population\n",
      "of 600 to 3,000 people).\n",
      "\n",
      "It can be downloaded/loaded using the\n",
      ":func:`sklearn.datasets.fetch_california_housing` function.\n",
      "\n",
      ".. topic:: References\n",
      "\n",
      "    - Pace, R. Kelley and Ronald Barry, Sparse Spatial Autoregressions,\n",
      "      Statistics and Probability Letters, 33 (1997) 291-297\n",
      "\n"
     ]
    }
   ],
   "source": [
    "housing = fetch_california_housing()\n",
    "\n",
    "print(housing.keys())\n",
    "\n",
    "# 20640 data points with 8 features\n",
    "housing['data'].shape\n",
    "\n",
    "# full description:\n",
    "print(housing['DESCR'])\n",
    "\n",
    "X = housing['data']\n",
    "y = housing['target']\n",
    "\n",
    "X_train, X_test, y_train, y_test = train_test_split(X, y, test_size=.2)\n",
    "\n",
    "# scale data\n",
    "scaler = StandardScaler()\n",
    "scaler.fit(X_train) # Fit only to the training data\n",
    "\n",
    "# Apply scaling to data\n",
    "X_train = scaler.transform(X_train)\n",
    "X_test = scaler.transform(X_test)"
   ]
  },
  {
   "cell_type": "code",
   "execution_count": 13,
   "metadata": {
    "slideshow": {
     "slide_type": "-"
    }
   },
   "outputs": [
    {
     "name": "stdout",
     "output_type": "stream",
     "text": [
      "{'copy_X': True, 'fit_intercept': True, 'n_jobs': None, 'normalize': False}\n",
      "2.071622566012199\n",
      "[ 0.84355469  0.12352768 -0.27382967  0.29982493 -0.00530253 -0.0410344\n",
      " -0.8807266  -0.85298227]\n",
      "0.5672466382436884\n"
     ]
    }
   ],
   "source": [
    "# Linear Regression with Scikit-Learn\n",
    "lin_reg = LinearRegression()\n",
    "print(lin_reg.get_params())\n",
    "\n",
    "lin_reg.fit(X_train, y_train)\n",
    "print(lin_reg.intercept_)\n",
    "print(lin_reg.coef_)\n",
    "\n",
    "print(lin_reg.score(X_test,y_test)) # score = 1 is good"
   ]
  },
  {
   "cell_type": "code",
   "execution_count": 14,
   "metadata": {
    "slideshow": {
     "slide_type": "-"
    }
   },
   "outputs": [
    {
     "name": "stdout",
     "output_type": "stream",
     "text": [
      "{'activation': 'relu', 'alpha': 0.0001, 'batch_size': 'auto', 'beta_1': 0.9, 'beta_2': 0.999, 'early_stopping': False, 'epsilon': 1e-08, 'hidden_layer_sizes': (8, 8), 'learning_rate': 'constant', 'learning_rate_init': 0.001, 'max_iter': 200, 'momentum': 0.9, 'n_iter_no_change': 10, 'nesterovs_momentum': True, 'power_t': 0.5, 'random_state': 2, 'shuffle': True, 'solver': 'adam', 'tol': 0.0001, 'validation_fraction': 0.1, 'verbose': 0, 'warm_start': False}\n",
      "0.7578959062452665\n"
     ]
    }
   ],
   "source": [
    "# MLP regression with Scikit-Learn\n",
    "mlp_reg = MLPRegressor(hidden_layer_sizes=(8,8),verbose=0,random_state=2,solver='adam')\n",
    "print(mlp_reg.get_params())\n",
    "\n",
    "mlp_reg.fit(X_train, y_train)\n",
    "\n",
    "print(mlp_reg.score(X_test,y_test)) # score = 1 is good"
   ]
  },
  {
   "cell_type": "markdown",
   "metadata": {
    "slideshow": {
     "slide_type": "slide"
    }
   },
   "source": [
    "\n",
    "\n",
    "## Another resource: Neural Networks demystified\n",
    "\n",
    "There is a good sequence of 7 videos called **Neural Networks demystified** from Welch Labs that builds and trains a neural network from scratch in python. \n",
    "* Part 1: [Data + Architecture](https://www.youtube.com/watch?v=bxe2T-V8XRs)\n",
    "+ Part 2: [Forward Propagation](https://www.youtube.com/watch?v=UJwK6jAStmg)\n",
    "+ Part 3: [Gradient Descent](https://www.youtube.com/watch?v=5u0jaA3qAGk)\n",
    "+ Part 4: [Backpropagation](https://www.youtube.com/watch?v=GlcnxUlrtek)\n",
    "+ Part 5: [Numerical Gradient Checking](https://www.youtube.com/watch?v=pHMzNW8Agq4&t=22s)\n",
    "+ Part 6: [Training](https://www.youtube.com/watch?v=9KM9Td6RVgQ)\n",
    "+ Part 7: [Overfitting, Testing, and Regularization](https://www.youtube.com/watch?v=S4ZUwgesjS8)\n",
    "\n",
    "If you're interested in learning more about how Neural Networks are trained, I would recommend watching these videos. \n",
    "\n",
    "The accompanying code is [on github](https://github.com/stephencwelch/Neural-Networks-Demystified) and can be obtained via \n",
    "```\n",
    "git clone https://github.com/stephencwelch/Neural-Networks-Demystified.git\n",
    "```"
   ]
  },
  {
   "cell_type": "markdown",
   "metadata": {
    "slideshow": {
     "slide_type": "slide"
    }
   },
   "source": [
    "## Neural Networks for large scale applications.\n",
    "\n",
    "We have now seen how to use neural networks in scikit-learn. However, this implementation does not scale to large-scale applications. (There is no GPU support and limited architectures.) \n",
    "\n",
    "There are many other packages that have more advanced implementations of neural networks. Here is a partial list with short descriptions taken from the packages.\n",
    "* [TensorFlow](https://github.com/tensorflow/tensorflow): TensorFlow™ is an open source C++ software library for numerical computation using data flow graphs. Nodes in the graph represent mathematical operations, while the graph edges represent the multidimensional data arrays (tensors) communicated between them. The flexible architecture allows you to deploy computation to one or more CPUs or GPUs in a desktop, server, or mobile device with a single API. \n",
    "+ [PyTorch](http://pytorch.org/): PyTorch is a deep learning framework that puts Python first. \n",
    "+ [CNTK](https://github.com/Microsoft/cntk)  Cognitive Toolkit (CNTK) is an open source deep-learning toolkit developed by Microsoft. \n",
    "+ [Theano](https://github.com/Theano/Theano): Theano is a Python library that allows you to define, optimize, and evaluate mathematical expressions involving multi-dimensional arrays efficiently. It can use GPUs and perform efficient symbolic differentiation.\n",
    "+ [Torch](http://torch.ch/): Torch is a scientific computing framework with wide support for machine learning algorithms that puts GPUs first.\n",
    "\n",
    "+ [keras](https://github.com/keras-team/keras): Keras is a high-level neural networks API, written in Python and capable of running on top of TensorFlow, CNTK, or Theano.\n",
    "+ [MXNet](https://github.com/dmlc/mxnet): Lightweight, Portable, Flexible Distributed/Mobile Deep Learning with Dynamic, Mutation-aware Dataflow Dep Scheduler; for Python, R, Julia, Scala, Go, Javascript and more\n",
    "+ [Caffe](http://caffe.berkeleyvision.org/): Caffe is a deep learning framework made with expression, speed, and modularity in mind. It is developed by Berkeley AI Research (BAIR) and by community contributors.\n",
    "+ [Lasagne](https://github.com/Lasagne/Lasagne): Lightweight library to build and train neural networks in Theano. \n",
    "+ [prettytensor](https://github.com/google/prettytensor/): \n",
    "Pretty Tensor provides a high level builder API for TensorFlow. It provides thin wrappers on Tensors so that you can easily build multi-layer neural networks.\n",
    "\n",
    "+ [Deeplearning4j](https://deeplearning4j.org/): Open-Source, Distributed, Deep Learning Library for the JVM\n",
    "+ [H2O](https://github.com/h2oai): Fast Scalable Machine Learning For Smarter Applications\n",
    "+ ... \n",
    "\n",
    "\n",
    "## Neural Networks for large scale applications.\n",
    "We'll continue this discussion in **Lecture 26: Neural Networks and Tensor Flow (guest lecture with Youjia Zhou)**."
   ]
  }
 ],
 "metadata": {
  "anaconda-cloud": {},
  "kernelspec": {
   "display_name": "Python 3",
   "language": "python",
   "name": "python3"
  },
  "language_info": {
   "codemirror_mode": {
    "name": "ipython",
    "version": 3
   },
   "file_extension": ".py",
   "mimetype": "text/x-python",
   "name": "python",
   "nbconvert_exporter": "python",
   "pygments_lexer": "ipython3",
   "version": "3.7.4"
  }
 },
 "nbformat": 4,
 "nbformat_minor": 1
}
