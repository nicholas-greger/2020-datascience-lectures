{
 "cells": [
  {
   "cell_type": "markdown",
   "metadata": {
    "slideshow": {
     "slide_type": "slide"
    }
   },
   "source": [
    "# Introduction to Data Science \n",
    "# Lecture 14: Classification 1\n",
    "*COMP 5360 / MATH 4100, University of Utah, http://datasciencecourse.net/*\n",
    "\n",
    "In this lecture, we'll discuss:\n",
    "* a general overview of classification \n",
    "* logistic regression \n",
    "* k nearest neighbors (k-NN) \n",
    "* generalizability and cross validation \n",
    "\n",
    "Recommended Reading: \n",
    "* G. James, D. Witten, T. Hastie, and R. Tibshirani, An Introduction to Statistical Learning, Ch. 4 [digitial version available here](http://www-bcf.usc.edu/~gareth/ISL/)\n"
   ]
  },
  {
   "cell_type": "code",
   "execution_count": 1,
   "metadata": {
    "slideshow": {
     "slide_type": "slide"
    }
   },
   "outputs": [],
   "source": [
    "# imports and setup\n",
    "\n",
    "import scipy as sc\n",
    "import pandas as pd\n",
    "import statsmodels.formula.api as sm\n",
    "\n",
    "import matplotlib.pyplot as plt\n",
    "%matplotlib inline  \n",
    "plt.rcParams['figure.figsize'] = (10, 6)\n",
    "plt.style.use('ggplot')"
   ]
  },
  {
   "cell_type": "markdown",
   "metadata": {
    "slideshow": {
     "slide_type": "slide"
    }
   },
   "source": [
    "## Classification \n",
    "\n",
    "Recall that in **regression**, we try to predict a real-valued (quantitative) variable. Examples:\n",
    "1. Predict house prices based on attributes\n",
    "+ predict credit score rating based on income, balance, gender, education, etc...\n",
    "\n",
    "In **classification**, we try to predict a categorical (qualitative) variable. Examples:\n",
    "1. Predict whether a bank should issue a person a credit card (yes/no)\n",
    "+ Predict a hospital patient's diagnosis (stroke, heart attack,...) based on symptoms. \n",
    "\n",
    "**Data:** $n$ samples $(x_1,y_1), (x_2,y_2),\\ldots,(x_n,y_n)$, where $x_i$ are attributes or features and $y_i$ are categorical variables that you want to predict. \n",
    "\n",
    "**Goal:** Develop a rule for predicting the categorical variable $y$ based on the features $x$. \n",
    "\n",
    "**Example:** Can the number of hours a student studies predict whether they will pass the exam?\n",
    "\n",
    "**Example:** Can we predict whether or not a student will be admitted to a graduate program based on their undergraduate performance (GPA, GRE score, prestige of student's undergraduate university)? \n",
    "\n",
    "**Example:** The post office uses classification to automatically sort mail by zip code. The digits of the zip code are assigned to one of the *classes:* $0,1,2,\\ldots,9$. \n",
    "\n",
    "In the next couple lectures, we'll cover several classification methods:\n",
    "* logistic regression\n",
    "+ k nearest neighbors\n",
    "+ trees and random forests\n",
    "+ support vector machines (SVM) \n",
    "\n",
    "After spring break, we'll cover yet another method:\n",
    "* Neural Networks and Deep Learning\n",
    "\n",
    "We'll see that Neural Networks can be used for both regression and classification. \n"
   ]
  },
  {
   "cell_type": "markdown",
   "metadata": {
    "slideshow": {
     "slide_type": "-"
    }
   },
   "source": [
    "### Evaluating a classification method\n",
    "\n",
    "Recall that in regression methods, we had several methods for evaluating a particular model: \n",
    "- $R^2$ value\n",
    "- hypothesis tests associated with the model and individual predictor variables\n",
    "\n",
    "How can we evaluate the performance of a classification method? \n",
    "\n",
    "**Confusion Matrix**. The [confusion matrix](https://en.wikipedia.org/wiki/Confusion_matrix) is a table where each column of the matrix represents the number of samples in each predicted class and each row represents the number of samples in each actual class. \n",
    "\n",
    "Consider the results from a classifier that is trying to classify 27 images of cats, dogs, and rabbits. Here is an example of what the confusion matrix might look like\n",
    "\n",
    "<img src=\"ConfusionMatrix.png\" title=\"https://en.wikipedia.org/wiki/Confusion_matrix\" width=\"35%\">\n",
    "\n",
    "This classifier is very good at distinguishing between cats and rabbits but lousy at recognizing dogs...half are misclassified!\n",
    "\n",
    "\n",
    "**Precision vs. Recall.** Two key metrics that can be obtained from the confusion matrix for binary classification are [precision and recall](https://en.wikipedia.org/wiki/Precision_and_recall):\n",
    "\\begin{align*}\n",
    "\\textrm{precision} &= \\frac{\\textrm{TP}}{\\textrm{TP} + \\textrm{FP}}\\\\\n",
    "\\textrm{recall} &= \\frac{\\textrm{TP}}{\\textrm{TP} + \\textrm{FN}}\n",
    "\\end{align*}\n",
    "Here, TP is the number of true positives, FP is the number of false positives, and FN is the number of false negatives.\n",
    "\n",
    "Often, precision and recall are inversely related; it is not possible to increase one without decreasing the other. For example, a trivial way to have perfect precision (precision = 1 = 100%) is if you make one correct positive prediction. However, this is not very useful since there will be many false negatives, so recall will be low. Conversely, if you can make one correct negative prediction, recall will be 100%, while precision will be very low.  \n",
    "\n",
    "In a particular application, it might be more desirable to have either better precision or recall. \n",
    "\n",
    "<img src=\"BinaryConfusinoMatrix.png\" title=\"https://towardsdatascience.com/understanding-confusion-matrix-a9ad42dcfd62\" width=\"55%\">\n",
    "\n",
    "There have been some attempts to combine precision and recall into a single measure, such as the [F-measure](https://en.wikipedia.org/wiki/Precision_and_recall#F-measure), which is the harmonic mean of precision and recall:\n",
    "$$\n",
    "\\textrm{F-measure} = 2\\frac{ \\textrm{precision} \\cdot \\textrm{recall} }{\\textrm{precision} + \\textrm{recall}}.\n",
    "$$\n",
    "The F-measure is large if precision and recall are close. \n",
    "\n",
    "The [ROC curve](https://en.wikipedia.org/wiki/Receiver_operating_characteristic) further illustrates the trade-off between precision and recall. \n",
    "\n",
    "\n",
    "The [Jaccard similarity score](https://en.wikipedia.org/wiki/Jaccard_index) is another measure of accuracy, given by \n",
    "$$\n",
    "\\textrm{J} = \\frac{\\textrm{TP}}{\\textrm{TP} + \\textrm{FP} + \\textrm{TN}}.\n",
    "$$"
   ]
  },
  {
   "cell_type": "markdown",
   "metadata": {
    "slideshow": {
     "slide_type": "slide"
    }
   },
   "source": [
    "## Logistic regression \n",
    "\n",
    "In logistic regression, the categorical value, $Y$, that we predict only takes two values. We'll call them 0 and 1. \n",
    "\n",
    "**Main idea:** Given the predictor variable  X, we model the *probability* that $Y = 1$ by \n",
    "$$\n",
    "p(X) = p(Y = 1 | \\ X) = \\frac{e^{\\beta_0 + \\beta_1 X}}{1+ e^{\\beta_0 + \\beta_1 X}}\n",
    "$$\n",
    "\n",
    "Defining the *logistic function* or *sigmoid function*,  \n",
    "$$\n",
    "\\textrm{logistic}(x) := \\frac{e^x}{1 + e^x} = \\frac{1}{1+ e^{-x}},\n",
    "$$\n",
    "we can write the above expression more succinctly as \n",
    "$$\n",
    "p(X) = \\textrm{logistic}( \\beta_0 + \\beta_1 X ).  \n",
    "$$\n",
    "\n",
    "One can check that the model is equivlant to \n",
    "$$\n",
    "\\log \\left( \\frac{p(X)}{1-p(X)} \\right) = \\beta_0 + \\beta_1 X. \n",
    "$$\n",
    "\n",
    "Sometimes, the function on the left hand side of the above equation is called the *logit function*, \n",
    "$$\n",
    "\\textrm{logit}(p) := \\log \\left( \\frac{p}{1-p} \\right). \n",
    "$$\n",
    "We can equivalently write the model as \n",
    "\n",
    "$$\n",
    "\\textrm{logit} ( p(X) ) = \\beta_0 + \\beta_1 X.  \n",
    "$$\n",
    "It follows that the logistic and logit functions are inverses of each other. \n",
    "\n",
    "We interpret $\\frac{p(X)}{1-p(X)}$ as being the *odds* that $Y=1$. Note that $p(X)$ is a number between 0 and 1 so that the odds that $Y=1$ is a number between 0 and $\\infty$. If $p(X) = 0.5$, then odds = 1.  We also have that $\\textrm{logit} ( p(X) )$ is a number between $-\\infty$ and $\\infty$, so it makes sense that it could be linear in the data (as modeled). \n"
   ]
  },
  {
   "cell_type": "code",
   "execution_count": 2,
   "metadata": {
    "slideshow": {
     "slide_type": "-"
    }
   },
   "outputs": [
    {
     "data": {
      "image/png": "[encoded data removed]",
      "text/plain": [
       "<Figure size 432x288 with 1 Axes>"
      ]
     },
     "metadata": {
      "needs_background": "light"
     },
     "output_type": "display_data"
    },
    {
     "data": {
      "image/png": "[encoded data removed]",
      "text/plain": [
       "<Figure size 432x288 with 1 Axes>"
      ]
     },
     "metadata": {
      "needs_background": "light"
     },
     "output_type": "display_data"
    }
   ],
   "source": [
    "x = sc.linspace(-10,10,1000)\n",
    "logistic = lambda x: 1/(1+sc.exp(-x))\n",
    "plt.plot(x,logistic(x),color='black',label='logistic(x)')\n",
    "plt.legend(loc='upper left')\n",
    "plt.xlabel('x')\n",
    "plt.ylim(-.1,1.1)\n",
    "plt.show()\n",
    "\n",
    "p = sc.linspace(1e-5,1-1e-5,1000)\n",
    "odds = lambda p: p/(1-p)\n",
    "logit = lambda p: sc.log(odds(p))\n",
    "plt.plot(p,odds(p),color='black',label='odds(p)')\n",
    "plt.plot(p,logit(p),color='red',label='logit(p)')\n",
    "plt.legend(loc='upper left')\n",
    "plt.xlabel('p')\n",
    "plt.ylim(-10,10)\n",
    "plt.show()"
   ]
  },
  {
   "cell_type": "markdown",
   "metadata": {
    "slideshow": {
     "slide_type": "-"
    }
   },
   "source": [
    "**Logistic regression:** Given samples $(x_i,y_i)$ for $i=1,\\ldots,n$, find the *best* values of $\\beta_0$ and $\\beta_1$ so that \n",
    "$$\n",
    "y = \\textrm{logistic}( \\beta_0 + \\beta_1 X ) \n",
    "\\qquad \\textrm{or} \\qquad\n",
    "\\textrm{logit} ( y ) = \\beta_0 + \\beta_1 X.  \n",
    "$$\n",
    "Recall that in linear regression, we found the the coefficients $\\beta_0$ and $\\beta_1$ by minimizing the sum of the squared residuals $SSR(\\beta_0,\\beta_1) = \\sum_{i} (y_i - \\beta_0 - \\beta_1 x_i)^2$, setting the partial derivatives with respect to  $\\beta_0$ and $\\beta_1$ to zero, and solving for  $\\hat \\beta_0$ and $\\hat \\beta_1$. \n",
    "We can try to do the same thing here, but unlike linear regression, there is no longer a closed form solution for the best coefficients $\\hat \\beta_0$ and $\\hat \\beta_1$. We have to use a computer to find them. To do this, we maximize the likelihood function \n",
    "$$\n",
    "\\ell(\\beta_0,\\beta_1) = \\Pi_{i\\colon y_i = 1} p(x_i) \\ \\Pi_{j\\colon y_j = 0} (1- p(x_j)).\n",
    "$$\n",
    "\n",
    "**Statistical inference viewpoint:** \n",
    "Above, logistic regression was described from the explanatory viewpoint of finding the best parameters to describe the data. \n",
    "Just like as in regression, there is also a statistical inference viewpoint. The categorical variable is modeled as \n",
    "$$\n",
    "y = \\begin{cases}\n",
    "1 &  \\beta_0 + \\beta_1 x + \\varepsilon > 0 \\\\\n",
    "0 & \\text{otherwise}\n",
    "\\end{cases}\n",
    "$$\n",
    "where $\\varepsilon$ is a random variable that is distributed according to the logistic distribution. Here, we seek to infer the values of $\\beta_0$ and $\\beta_1$ from noisy samples of this variable. "
   ]
  },
  {
   "cell_type": "markdown",
   "metadata": {
    "slideshow": {
     "slide_type": "slide"
    }
   },
   "source": [
    "## Logistic Regression Example:  How many hours do you need to study to pass the exam? \n",
    "\n",
    "This example was taken from [wikipedia](https://en.wikipedia.org/wiki/Logistic_regression). "
   ]
  },
  {
   "cell_type": "code",
   "execution_count": 3,
   "metadata": {
    "slideshow": {
     "slide_type": "-"
    }
   },
   "outputs": [
    {
     "data": {
      "text/html": [
       "<div>\n",
       "<style scoped>\n",
       "    .dataframe tbody tr th:only-of-type {\n",
       "        vertical-align: middle;\n",
       "    }\n",
       "\n",
       "    .dataframe tbody tr th {\n",
       "        vertical-align: top;\n",
       "    }\n",
       "\n",
       "    .dataframe thead th {\n",
       "        text-align: right;\n",
       "    }\n",
       "</style>\n",
       "<table border=\"1\" class=\"dataframe\">\n",
       "  <thead>\n",
       "    <tr style=\"text-align: right;\">\n",
       "      <th></th>\n",
       "      <th>hours</th>\n",
       "      <th>pass_exam</th>\n",
       "    </tr>\n",
       "  </thead>\n",
       "  <tbody>\n",
       "    <tr>\n",
       "      <th>0</th>\n",
       "      <td>0.50</td>\n",
       "      <td>0</td>\n",
       "    </tr>\n",
       "    <tr>\n",
       "      <th>1</th>\n",
       "      <td>0.75</td>\n",
       "      <td>0</td>\n",
       "    </tr>\n",
       "    <tr>\n",
       "      <th>2</th>\n",
       "      <td>1.00</td>\n",
       "      <td>0</td>\n",
       "    </tr>\n",
       "    <tr>\n",
       "      <th>3</th>\n",
       "      <td>1.25</td>\n",
       "      <td>0</td>\n",
       "    </tr>\n",
       "    <tr>\n",
       "      <th>4</th>\n",
       "      <td>1.50</td>\n",
       "      <td>0</td>\n",
       "    </tr>\n",
       "    <tr>\n",
       "      <th>5</th>\n",
       "      <td>1.75</td>\n",
       "      <td>0</td>\n",
       "    </tr>\n",
       "    <tr>\n",
       "      <th>6</th>\n",
       "      <td>1.75</td>\n",
       "      <td>1</td>\n",
       "    </tr>\n",
       "    <tr>\n",
       "      <th>7</th>\n",
       "      <td>2.00</td>\n",
       "      <td>0</td>\n",
       "    </tr>\n",
       "    <tr>\n",
       "      <th>8</th>\n",
       "      <td>2.25</td>\n",
       "      <td>1</td>\n",
       "    </tr>\n",
       "    <tr>\n",
       "      <th>9</th>\n",
       "      <td>2.50</td>\n",
       "      <td>0</td>\n",
       "    </tr>\n",
       "    <tr>\n",
       "      <th>10</th>\n",
       "      <td>2.75</td>\n",
       "      <td>1</td>\n",
       "    </tr>\n",
       "    <tr>\n",
       "      <th>11</th>\n",
       "      <td>3.00</td>\n",
       "      <td>0</td>\n",
       "    </tr>\n",
       "    <tr>\n",
       "      <th>12</th>\n",
       "      <td>3.25</td>\n",
       "      <td>1</td>\n",
       "    </tr>\n",
       "    <tr>\n",
       "      <th>13</th>\n",
       "      <td>3.50</td>\n",
       "      <td>0</td>\n",
       "    </tr>\n",
       "    <tr>\n",
       "      <th>14</th>\n",
       "      <td>4.00</td>\n",
       "      <td>1</td>\n",
       "    </tr>\n",
       "    <tr>\n",
       "      <th>15</th>\n",
       "      <td>4.25</td>\n",
       "      <td>1</td>\n",
       "    </tr>\n",
       "    <tr>\n",
       "      <th>16</th>\n",
       "      <td>4.50</td>\n",
       "      <td>1</td>\n",
       "    </tr>\n",
       "    <tr>\n",
       "      <th>17</th>\n",
       "      <td>4.75</td>\n",
       "      <td>1</td>\n",
       "    </tr>\n",
       "    <tr>\n",
       "      <th>18</th>\n",
       "      <td>5.00</td>\n",
       "      <td>1</td>\n",
       "    </tr>\n",
       "    <tr>\n",
       "      <th>19</th>\n",
       "      <td>5.50</td>\n",
       "      <td>1</td>\n",
       "    </tr>\n",
       "  </tbody>\n",
       "</table>\n",
       "</div>"
      ],
      "text/plain": [
       "    hours  pass_exam\n",
       "0    0.50          0\n",
       "1    0.75          0\n",
       "2    1.00          0\n",
       "3    1.25          0\n",
       "4    1.50          0\n",
       "5    1.75          0\n",
       "6    1.75          1\n",
       "7    2.00          0\n",
       "8    2.25          1\n",
       "9    2.50          0\n",
       "10   2.75          1\n",
       "11   3.00          0\n",
       "12   3.25          1\n",
       "13   3.50          0\n",
       "14   4.00          1\n",
       "15   4.25          1\n",
       "16   4.50          1\n",
       "17   4.75          1\n",
       "18   5.00          1\n",
       "19   5.50          1"
      ]
     },
     "execution_count": 3,
     "metadata": {},
     "output_type": "execute_result"
    }
   ],
   "source": [
    "hours = [0.50, 0.75, 1.00, 1.25, 1.50, 1.75, 1.75, 2.00, 2.25, 2.50, 2.75, 3.00, 3.25, 3.50, 4.00, 4.25, 4.50, 4.75, 5.00, 5.50] \n",
    "pass_Exam = [0, 0, 0, 0, 0, 0, 1, 0, 1, 0, 1, 0, 1, 0, 1, 1, 1, 1, 1, 1]\n",
    "df = pd.DataFrame({\"hours\": hours, \"pass_exam\": pass_Exam})\n",
    "df"
   ]
  },
  {
   "cell_type": "code",
   "execution_count": 4,
   "metadata": {
    "slideshow": {
     "slide_type": "-"
    }
   },
   "outputs": [
    {
     "data": {
      "image/png": "[encoded data removed]",
      "text/plain": [
       "<Figure size 432x288 with 1 Axes>"
      ]
     },
     "metadata": {
      "needs_background": "light"
     },
     "output_type": "display_data"
    }
   ],
   "source": [
    "df.plot.scatter(x='hours',y='pass_exam',s=30);"
   ]
  },
  {
   "cell_type": "markdown",
   "metadata": {
    "slideshow": {
     "slide_type": "-"
    }
   },
   "source": [
    "For this example, we want to find coefficients $\\beta_0$ and $\\beta_1$ so that the model\n",
    "$$\n",
    "p(X) = \\textrm{probability}(\\textrm{passing} | \\ \\textrm{X hours studying} ) = \\textrm{logistic}( \\beta_0 + \\beta_1 X )\n",
    "$$\n",
    "best explains the data. \n",
    "\n",
    "We can use the 'logit' function from the statsmodels python library. "
   ]
  },
  {
   "cell_type": "code",
   "execution_count": 5,
   "metadata": {
    "slideshow": {
     "slide_type": "-"
    }
   },
   "outputs": [
    {
     "name": "stdout",
     "output_type": "stream",
     "text": [
      "Optimization terminated successfully.\n",
      "         Current function value: 0.401494\n",
      "         Iterations 7\n"
     ]
    },
    {
     "data": {
      "text/html": [
       "<table class=\"simpletable\">\n",
       "<caption>Logit Regression Results</caption>\n",
       "<tr>\n",
       "  <th>Dep. Variable:</th>     <td>pass_Exam</td>    <th>  No. Observations:  </th>  <td>    20</td>  \n",
       "</tr>\n",
       "<tr>\n",
       "  <th>Model:</th>               <td>Logit</td>      <th>  Df Residuals:      </th>  <td>    18</td>  \n",
       "</tr>\n",
       "<tr>\n",
       "  <th>Method:</th>               <td>MLE</td>       <th>  Df Model:          </th>  <td>     1</td>  \n",
       "</tr>\n",
       "<tr>\n",
       "  <th>Date:</th>          <td>Tue, 25 Feb 2020</td> <th>  Pseudo R-squ.:     </th>  <td>0.4208</td>  \n",
       "</tr>\n",
       "<tr>\n",
       "  <th>Time:</th>              <td>14:42:51</td>     <th>  Log-Likelihood:    </th> <td> -8.0299</td> \n",
       "</tr>\n",
       "<tr>\n",
       "  <th>converged:</th>           <td>True</td>       <th>  LL-Null:           </th> <td> -13.863</td> \n",
       "</tr>\n",
       "<tr>\n",
       "  <th> </th>                      <td> </td>        <th>  LLR p-value:       </th> <td>0.0006365</td>\n",
       "</tr>\n",
       "</table>\n",
       "<table class=\"simpletable\">\n",
       "<tr>\n",
       "      <td></td>         <th>coef</th>     <th>std err</th>      <th>z</th>      <th>P>|z|</th>  <th>[0.025</th>    <th>0.975]</th>  \n",
       "</tr>\n",
       "<tr>\n",
       "  <th>Intercept</th> <td>   -4.0777</td> <td>    1.761</td> <td>   -2.316</td> <td> 0.021</td> <td>   -7.529</td> <td>   -0.626</td>\n",
       "</tr>\n",
       "<tr>\n",
       "  <th>hours</th>     <td>    1.5046</td> <td>    0.629</td> <td>    2.393</td> <td> 0.017</td> <td>    0.272</td> <td>    2.737</td>\n",
       "</tr>\n",
       "</table>"
      ],
      "text/plain": [
       "<class 'statsmodels.iolib.summary.Summary'>\n",
       "\"\"\"\n",
       "                           Logit Regression Results                           \n",
       "==============================================================================\n",
       "Dep. Variable:              pass_Exam   No. Observations:                   20\n",
       "Model:                          Logit   Df Residuals:                       18\n",
       "Method:                           MLE   Df Model:                            1\n",
       "Date:                Tue, 25 Feb 2020   Pseudo R-squ.:                  0.4208\n",
       "Time:                        14:42:51   Log-Likelihood:                -8.0299\n",
       "converged:                       True   LL-Null:                       -13.863\n",
       "                                        LLR p-value:                 0.0006365\n",
       "==============================================================================\n",
       "                 coef    std err          z      P>|z|      [0.025      0.975]\n",
       "------------------------------------------------------------------------------\n",
       "Intercept     -4.0777      1.761     -2.316      0.021      -7.529      -0.626\n",
       "hours          1.5046      0.629      2.393      0.017       0.272       2.737\n",
       "==============================================================================\n",
       "\"\"\""
      ]
     },
     "execution_count": 5,
     "metadata": {},
     "output_type": "execute_result"
    }
   ],
   "source": [
    "exam_model = sm.logit(formula=\"pass_Exam ~ hours\", data=df).fit()\n",
    "exam_model.summary()"
   ]
  },
  {
   "cell_type": "code",
   "execution_count": 6,
   "metadata": {
    "slideshow": {
     "slide_type": "-"
    }
   },
   "outputs": [
    {
     "data": {
      "image/png": "[encoded data removed]",
      "text/plain": [
       "<Figure size 432x288 with 1 Axes>"
      ]
     },
     "metadata": {
      "needs_background": "light"
     },
     "output_type": "display_data"
    }
   ],
   "source": [
    "df.plot.scatter(x='hours',y='pass_exam',s=30)\n",
    "x = sc.linspace(df['hours'].min(),df['hours'].max(),1000)\n",
    "par = dict(exam_model.params)\n",
    "plt.plot(x,logistic(par['Intercept'] + par['hours']*x),color='Black')\n",
    "plt.show()"
   ]
  },
  {
   "cell_type": "markdown",
   "metadata": {
    "slideshow": {
     "slide_type": "-"
    }
   },
   "source": [
    "The plot shows hours vs. whether or not the student passed and the logistic regression curve. The curve predicts the probability that a student will pass, given how many hours they've studied. \n",
    "\n",
    "From the plot, we can see that the more hours you spend studying, the more likely you are to pass the exam. *Let this be a lesson!* \n",
    "\n",
    "If I study just 2 hours, what is the likelihood that I'll pass? "
   ]
  },
  {
   "cell_type": "code",
   "execution_count": 7,
   "metadata": {
    "slideshow": {
     "slide_type": "-"
    }
   },
   "outputs": [
    {
     "data": {
      "text/plain": [
       "0.25570318264090985"
      ]
     },
     "execution_count": 7,
     "metadata": {},
     "output_type": "execute_result"
    }
   ],
   "source": [
    "logistic(par['Intercept'] + par['hours']*2)"
   ]
  },
  {
   "cell_type": "markdown",
   "metadata": {
    "slideshow": {
     "slide_type": "-"
    }
   },
   "source": [
    "I can also get this from exam_model:"
   ]
  },
  {
   "cell_type": "code",
   "execution_count": 8,
   "metadata": {
    "slideshow": {
     "slide_type": "-"
    }
   },
   "outputs": [
    {
     "data": {
      "text/plain": [
       "0    0.255703\n",
       "dtype: float64"
      ]
     },
     "execution_count": 8,
     "metadata": {},
     "output_type": "execute_result"
    }
   ],
   "source": [
    "exam_model.predict(pd.DataFrame({\"hours\": [2]}))"
   ]
  },
  {
   "cell_type": "markdown",
   "metadata": {
    "slideshow": {
     "slide_type": "-"
    }
   },
   "source": [
    "After studying just 2 hours, I'm only $26\\%$ likely to pass. \n",
    "\n",
    "How many hours do you have to study in order for the probability of passing to be greater than $50\\%$?\n",
    "\n",
    "From the plot, it looks like $\\approx 2.75$ hours. How can we find this number from the logistic regression? \n",
    "\n",
    "Recall: \n",
    "$$\n",
    "p(X) = \\textrm{logistic}( \\beta_0 + \\beta_1 X ).  \n",
    "$$"
   ]
  },
  {
   "cell_type": "code",
   "execution_count": 9,
   "metadata": {
    "slideshow": {
     "slide_type": "-"
    }
   },
   "outputs": [
    {
     "name": "stdout",
     "output_type": "stream",
     "text": [
      "2.7100826242472498\n"
     ]
    }
   ],
   "source": [
    "prob_passing = 0.5\n",
    "print((logit(prob_passing) - par['Intercept'])/par['hours'])"
   ]
  },
  {
   "cell_type": "markdown",
   "metadata": {
    "slideshow": {
     "slide_type": "-"
    }
   },
   "source": [
    "We can also make a confusion matrix for the model: "
   ]
  },
  {
   "cell_type": "code",
   "execution_count": 10,
   "metadata": {
    "slideshow": {
     "slide_type": "-"
    }
   },
   "outputs": [
    {
     "data": {
      "text/html": [
       "<div>\n",
       "<style scoped>\n",
       "    .dataframe tbody tr th:only-of-type {\n",
       "        vertical-align: middle;\n",
       "    }\n",
       "\n",
       "    .dataframe tbody tr th {\n",
       "        vertical-align: top;\n",
       "    }\n",
       "\n",
       "    .dataframe thead th {\n",
       "        text-align: right;\n",
       "    }\n",
       "</style>\n",
       "<table border=\"1\" class=\"dataframe\">\n",
       "  <thead>\n",
       "    <tr style=\"text-align: right;\">\n",
       "      <th>pred_pass</th>\n",
       "      <th>False</th>\n",
       "      <th>True</th>\n",
       "    </tr>\n",
       "    <tr>\n",
       "      <th>pass_exam</th>\n",
       "      <th></th>\n",
       "      <th></th>\n",
       "    </tr>\n",
       "  </thead>\n",
       "  <tbody>\n",
       "    <tr>\n",
       "      <th>0</th>\n",
       "      <td>8</td>\n",
       "      <td>2</td>\n",
       "    </tr>\n",
       "    <tr>\n",
       "      <th>1</th>\n",
       "      <td>2</td>\n",
       "      <td>8</td>\n",
       "    </tr>\n",
       "  </tbody>\n",
       "</table>\n",
       "</div>"
      ],
      "text/plain": [
       "pred_pass  False  True \n",
       "pass_exam              \n",
       "0              8      2\n",
       "1              2      8"
      ]
     },
     "execution_count": 10,
     "metadata": {},
     "output_type": "execute_result"
    }
   ],
   "source": [
    "df['pred_pass'] = exam_model.predict()>.5\n",
    "pd.crosstab(index=df[\"pass_exam\"], columns=df[\"pred_pass\"]) # confusion matrix"
   ]
  },
  {
   "cell_type": "markdown",
   "metadata": {
    "slideshow": {
     "slide_type": "-"
    }
   },
   "source": [
    "We interpret this as: for each category (pass,fail), there were two mistakenly classified points. "
   ]
  },
  {
   "cell_type": "markdown",
   "metadata": {},
   "source": [
    "**Question**: What is the precision and recall for this model?\n",
    "\n",
    "\\begin{align*}\n",
    "\\textrm{precision} &= \\frac{\\textrm{TP}}{\\textrm{TP} + \\textrm{FP}} = \\frac{8}{8 + 2} = 80\\% \\\\\n",
    "\\textrm{recall} &= \\frac{\\textrm{TP}}{\\textrm{TP} + \\textrm{FN}} =  \\frac{8}{8 + 2} = 80\\%\n",
    "\\end{align*}"
   ]
  }
 ],
 "metadata": {
  "anaconda-cloud": {},
  "kernelspec": {
   "display_name": "Python 3",
   "language": "python",
   "name": "python3"
  },
  "language_info": {
   "codemirror_mode": {
    "name": "ipython",
    "version": 3
   },
   "file_extension": ".py",
   "mimetype": "text/x-python",
   "name": "python",
   "nbconvert_exporter": "python",
   "pygments_lexer": "ipython3",
   "version": "3.7.4"
  }
 },
 "nbformat": 4,
 "nbformat_minor": 1
}
